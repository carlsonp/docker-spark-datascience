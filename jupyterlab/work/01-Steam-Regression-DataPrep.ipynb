{
 "cells": [
  {
   "cell_type": "code",
   "execution_count": 11,
   "metadata": {},
   "outputs": [
    {
     "name": "stderr",
     "output_type": "stream",
     "text": [
      "/spark/python/pyspark/sql/context.py:77: FutureWarning: Deprecated in 3.0.0. Use SparkSession.builder.getOrCreate() instead.\n",
      "  warnings.warn(\n"
     ]
    }
   ],
   "source": [
    "import sys, time, pickle\n",
    "from pyspark import SparkContext, SparkConf\n",
    "from pyspark.sql import *\n",
    "from pyspark.sql.types import *\n",
    "from IPython.display import display, HTML\n",
    "from pyspark.ml.feature import VectorAssembler\n",
    "from pyspark.ml.tuning import ParamGridBuilder\n",
    "from pyspark.ml import Pipeline\n",
    "from pyspark.ml.tuning import CrossValidator\n",
    "from pyspark.ml.evaluation import RegressionEvaluator\n",
    "from pyspark.ml.clustering import KMeans\n",
    "from pyspark.ml.evaluation import ClusteringEvaluator\n",
    "from pymongo import MongoClient\n",
    "import pandas as pd\n",
    "import numpy as np\n",
    "\n",
    "from sklearn.feature_selection import mutual_info_regression\n",
    "\n",
    "import matplotlib.pyplot as plt\n",
    "\n",
    "# make matplotlib plot sizes larger\n",
    "plt.rcParams['figure.figsize'] = [30, 20]\n",
    "\n",
    "conf = SparkConf().setAppName('Steam Random Forest Regressor').setMaster('spark://sparkmaster:7077')\n",
    "SparkContext.setSystemProperty('spark.executor.memory', '2g') # memory per executor\n",
    "SparkContext.setSystemProperty('spark.executor.cores', '6') # cores per executor\n",
    "SparkContext.setSystemProperty('spark.executor.instances', '3') # per worker (computer)\n",
    "\n",
    "# https://spark.apache.org/docs/3.0.0-preview/configuration.html#dynamic-allocation\n",
    "# https://stackoverflow.com/questions/26168254/how-to-set-amount-of-spark-executors\n",
    "# https://blog.cloudera.com/how-to-tune-your-apache-spark-jobs-part-2/\n",
    "\n",
    "# SparkContext.setSystemProperty(\"spark.shuffle.service.enabled\", \"True\") # required for dynamic allocation below\n",
    "# SparkContext.setSystemProperty(\"spark.dynamicAllocation.enabled\", \"True\")\n",
    "# SparkContext.setSystemProperty(\"spark.executor.cores\", \"4\")\n",
    "# SparkContext.setSystemProperty(\"spark.dynamicAllocation.minExecutors\", \"1\")\n",
    "# SparkContext.setSystemProperty(\"spark.dynamicAllocation.maxExecutors\", \"5\")\n",
    "# SparkContext.setSystemProperty('spark.executor.memory', '2g') # memory per executor\n",
    "\n",
    "sc = SparkContext(conf=conf)\n",
    "sqlContext = SQLContext(sc)"
   ]
  },
  {
   "cell_type": "code",
   "execution_count": 2,
   "metadata": {},
   "outputs": [],
   "source": [
    "# Customizable Variables\n",
    "\n",
    "# what percentage discount should be predicted?\n",
    "percentage_discount_predict = 25"
   ]
  },
  {
   "cell_type": "code",
   "execution_count": 3,
   "metadata": {},
   "outputs": [
    {
     "data": {
      "text/plain": [
       "[('spark.executor.memory', '2g'),\n",
       " ('spark.driver.host', 'jupyterlab'),\n",
       " ('spark.executor.instances', '3'),\n",
       " ('spark.app.name', 'Steam Random Forest Regressor'),\n",
       " ('spark.app.startTime', '1644967979376'),\n",
       " ('spark.executor.id', 'driver'),\n",
       " ('spark.master', 'spark://sparkmaster:7077'),\n",
       " ('spark.app.id', 'app-20220215163301-0001'),\n",
       " ('spark.driver.port', '41361'),\n",
       " ('spark.executor.cores', '6'),\n",
       " ('spark.rdd.compress', 'True'),\n",
       " ('spark.serializer.objectStreamReset', '100'),\n",
       " ('spark.submit.pyFiles', ''),\n",
       " ('spark.submit.deployMode', 'client'),\n",
       " ('spark.ui.showConsoleProgress', 'true')]"
      ]
     },
     "execution_count": 3,
     "metadata": {},
     "output_type": "execute_result"
    }
   ],
   "source": [
    "sc._conf.getAll()"
   ]
  },
  {
   "cell_type": "code",
   "execution_count": 4,
   "metadata": {},
   "outputs": [],
   "source": [
    "client = MongoClient(host=\"192.168.1.140\", port=27017)\n",
    "db = client['steam']\n",
    "apps = db['apps']\n",
    "history = db['pricehistory']\n",
    "opencritic = db['opencritic']\n",
    "topgames = db['topgames']\n",
    "twitch = db['twitchhistorical']\n",
    "\n",
    "# TODO: account for cases where there are multiple publishers or developers?\n",
    "ret = apps.aggregate([\n",
    "    {\"$match\": {\"updated_date\": {\"$exists\": True}, \"type\": {\"$in\": [\"game\", \"dlc\"]}, \"release_date.coming_soon\": {\"$ne\": True}, \"is_free\": False}},\n",
    "    {\"$project\": {\"_id\":0, \"name\":1, \"appid\":1, \"release_date\": \"$release_date.date\", \"total_recommendations\": \"$recommendations.total\",\n",
    "                  \"initial_price\": \"$price_overview.initial\", \"metacritic_score\": \"$metacritic.score\", \"type\":1, \"required_age\":1,\n",
    "                 \"windows\":\"$platforms.windows\", \"mac\":\"$platforms.mac\", \"linux\":\"$platforms.linux\",\n",
    "                 \"publisher\": {\"$arrayElemAt\": [\"$publishers\", 0]}, \"developer\": {\"$arrayElemAt\": [\"$developers\", 0]},\n",
    "                 \"number_dlc\": {'$size': {\"$ifNull\": [ \"$dlc\", [] ]}}, \"number_genres\": {'$size': {\"$ifNull\": [ \"$genres\", [] ]}}, \"number_categories\": {'$size': {\"$ifNull\": [ \"$categories\", [] ]}}}}\n",
    "])"
   ]
  },
  {
   "cell_type": "code",
   "execution_count": 5,
   "metadata": {},
   "outputs": [],
   "source": [
    "# save as pandas dataframe\n",
    "df = pd.DataFrame(ret)"
   ]
  },
  {
   "cell_type": "code",
   "execution_count": 6,
   "metadata": {},
   "outputs": [
    {
     "data": {
      "text/html": [
       "<div>\n",
       "<style scoped>\n",
       "    .dataframe tbody tr th:only-of-type {\n",
       "        vertical-align: middle;\n",
       "    }\n",
       "\n",
       "    .dataframe tbody tr th {\n",
       "        vertical-align: top;\n",
       "    }\n",
       "\n",
       "    .dataframe thead th {\n",
       "        text-align: right;\n",
       "    }\n",
       "</style>\n",
       "<table border=\"1\" class=\"dataframe\">\n",
       "  <thead>\n",
       "    <tr style=\"text-align: right;\">\n",
       "      <th></th>\n",
       "      <th>type</th>\n",
       "      <th>name</th>\n",
       "      <th>required_age</th>\n",
       "      <th>appid</th>\n",
       "      <th>release_date</th>\n",
       "      <th>initial_price</th>\n",
       "      <th>metacritic_score</th>\n",
       "      <th>windows</th>\n",
       "      <th>mac</th>\n",
       "      <th>linux</th>\n",
       "      <th>publisher</th>\n",
       "      <th>developer</th>\n",
       "      <th>number_dlc</th>\n",
       "      <th>number_genres</th>\n",
       "      <th>number_categories</th>\n",
       "      <th>total_recommendations</th>\n",
       "    </tr>\n",
       "  </thead>\n",
       "  <tbody>\n",
       "    <tr>\n",
       "      <th>0</th>\n",
       "      <td>game</td>\n",
       "      <td>Legend: Hand of God</td>\n",
       "      <td>0</td>\n",
       "      <td>12630</td>\n",
       "      <td>May 5, 2009</td>\n",
       "      <td>999.0</td>\n",
       "      <td>57.0</td>\n",
       "      <td>True</td>\n",
       "      <td>False</td>\n",
       "      <td>False</td>\n",
       "      <td>DTP Entertainment</td>\n",
       "      <td>Master Creating</td>\n",
       "      <td>0</td>\n",
       "      <td>2</td>\n",
       "      <td>1</td>\n",
       "      <td>NaN</td>\n",
       "    </tr>\n",
       "    <tr>\n",
       "      <th>1</th>\n",
       "      <td>game</td>\n",
       "      <td>realMyst</td>\n",
       "      <td>0</td>\n",
       "      <td>63600</td>\n",
       "      <td>Aug 4, 2010</td>\n",
       "      <td>599.0</td>\n",
       "      <td>66.0</td>\n",
       "      <td>True</td>\n",
       "      <td>False</td>\n",
       "      <td>False</td>\n",
       "      <td>Cyan Worlds</td>\n",
       "      <td>Cyan Worlds</td>\n",
       "      <td>0</td>\n",
       "      <td>2</td>\n",
       "      <td>1</td>\n",
       "      <td>231.0</td>\n",
       "    </tr>\n",
       "    <tr>\n",
       "      <th>2</th>\n",
       "      <td>dlc</td>\n",
       "      <td>Crusader Kings II: African Portraits</td>\n",
       "      <td>0</td>\n",
       "      <td>210897</td>\n",
       "      <td>Oct 16, 2012</td>\n",
       "      <td>199.0</td>\n",
       "      <td>NaN</td>\n",
       "      <td>True</td>\n",
       "      <td>True</td>\n",
       "      <td>True</td>\n",
       "      <td>Paradox Interactive</td>\n",
       "      <td>Paradox Interactive</td>\n",
       "      <td>0</td>\n",
       "      <td>1</td>\n",
       "      <td>3</td>\n",
       "      <td>NaN</td>\n",
       "    </tr>\n",
       "    <tr>\n",
       "      <th>3</th>\n",
       "      <td>game</td>\n",
       "      <td>Planetary Annihilation</td>\n",
       "      <td>0</td>\n",
       "      <td>233250</td>\n",
       "      <td>Sep 5, 2014</td>\n",
       "      <td>2999.0</td>\n",
       "      <td>62.0</td>\n",
       "      <td>True</td>\n",
       "      <td>True</td>\n",
       "      <td>True</td>\n",
       "      <td>Planetary Annihilation Inc</td>\n",
       "      <td>Planetary Annihilation Inc</td>\n",
       "      <td>2</td>\n",
       "      <td>1</td>\n",
       "      <td>6</td>\n",
       "      <td>14931.0</td>\n",
       "    </tr>\n",
       "    <tr>\n",
       "      <th>4</th>\n",
       "      <td>dlc</td>\n",
       "      <td>Mark of the Ninja: Special Edition DLC</td>\n",
       "      <td>17</td>\n",
       "      <td>239570</td>\n",
       "      <td>Aug 16, 2013</td>\n",
       "      <td>499.0</td>\n",
       "      <td>NaN</td>\n",
       "      <td>True</td>\n",
       "      <td>True</td>\n",
       "      <td>True</td>\n",
       "      <td></td>\n",
       "      <td>Klei Entertainment</td>\n",
       "      <td>0</td>\n",
       "      <td>3</td>\n",
       "      <td>8</td>\n",
       "      <td>239.0</td>\n",
       "    </tr>\n",
       "    <tr>\n",
       "      <th>...</th>\n",
       "      <td>...</td>\n",
       "      <td>...</td>\n",
       "      <td>...</td>\n",
       "      <td>...</td>\n",
       "      <td>...</td>\n",
       "      <td>...</td>\n",
       "      <td>...</td>\n",
       "      <td>...</td>\n",
       "      <td>...</td>\n",
       "      <td>...</td>\n",
       "      <td>...</td>\n",
       "      <td>...</td>\n",
       "      <td>...</td>\n",
       "      <td>...</td>\n",
       "      <td>...</td>\n",
       "      <td>...</td>\n",
       "    </tr>\n",
       "    <tr>\n",
       "      <th>86619</th>\n",
       "      <td>game</td>\n",
       "      <td>Garrison Gauntlet</td>\n",
       "      <td>0</td>\n",
       "      <td>912360</td>\n",
       "      <td>2018-08-17 00:00:00</td>\n",
       "      <td>99.0</td>\n",
       "      <td>NaN</td>\n",
       "      <td>True</td>\n",
       "      <td>False</td>\n",
       "      <td>False</td>\n",
       "      <td>Ryan Silberman</td>\n",
       "      <td>Ryan Silberman</td>\n",
       "      <td>0</td>\n",
       "      <td>2</td>\n",
       "      <td>1</td>\n",
       "      <td>NaN</td>\n",
       "    </tr>\n",
       "    <tr>\n",
       "      <th>86620</th>\n",
       "      <td>game</td>\n",
       "      <td>Battle Realms: Zen Edition</td>\n",
       "      <td>0</td>\n",
       "      <td>1025600</td>\n",
       "      <td>2019-12-03 00:00:00</td>\n",
       "      <td>999.0</td>\n",
       "      <td>82.0</td>\n",
       "      <td>True</td>\n",
       "      <td>False</td>\n",
       "      <td>False</td>\n",
       "      <td>Ed Del Castillo</td>\n",
       "      <td>Ed Del Castillo</td>\n",
       "      <td>0</td>\n",
       "      <td>3</td>\n",
       "      <td>6</td>\n",
       "      <td>1836.0</td>\n",
       "    </tr>\n",
       "    <tr>\n",
       "      <th>86621</th>\n",
       "      <td>dlc</td>\n",
       "      <td>We Happy Few - We All Fall Down</td>\n",
       "      <td>17</td>\n",
       "      <td>1024770</td>\n",
       "      <td>2019-11-19 00:00:00</td>\n",
       "      <td>799.0</td>\n",
       "      <td>NaN</td>\n",
       "      <td>True</td>\n",
       "      <td>False</td>\n",
       "      <td>False</td>\n",
       "      <td>Gearbox Publishing</td>\n",
       "      <td>Compulsion Games</td>\n",
       "      <td>0</td>\n",
       "      <td>3</td>\n",
       "      <td>6</td>\n",
       "      <td>NaN</td>\n",
       "    </tr>\n",
       "    <tr>\n",
       "      <th>86622</th>\n",
       "      <td>game</td>\n",
       "      <td>Bombing Quest</td>\n",
       "      <td>0</td>\n",
       "      <td>1018860</td>\n",
       "      <td>2020-03-04 00:00:00</td>\n",
       "      <td>1499.0</td>\n",
       "      <td>NaN</td>\n",
       "      <td>True</td>\n",
       "      <td>False</td>\n",
       "      <td>False</td>\n",
       "      <td>Team Puh</td>\n",
       "      <td>Team Puh</td>\n",
       "      <td>0</td>\n",
       "      <td>4</td>\n",
       "      <td>4</td>\n",
       "      <td>NaN</td>\n",
       "    </tr>\n",
       "    <tr>\n",
       "      <th>86623</th>\n",
       "      <td>game</td>\n",
       "      <td>Suite 776</td>\n",
       "      <td>0</td>\n",
       "      <td>1197370</td>\n",
       "      <td>2019-12-06 00:00:00</td>\n",
       "      <td>399.0</td>\n",
       "      <td>NaN</td>\n",
       "      <td>True</td>\n",
       "      <td>False</td>\n",
       "      <td>False</td>\n",
       "      <td>TurnVex</td>\n",
       "      <td>Stanislaw Truchowski</td>\n",
       "      <td>0</td>\n",
       "      <td>3</td>\n",
       "      <td>2</td>\n",
       "      <td>407.0</td>\n",
       "    </tr>\n",
       "  </tbody>\n",
       "</table>\n",
       "<p>86624 rows × 16 columns</p>\n",
       "</div>"
      ],
      "text/plain": [
       "       type                                    name required_age    appid  \\\n",
       "0      game                     Legend: Hand of God            0    12630   \n",
       "1      game                                realMyst            0    63600   \n",
       "2       dlc   Crusader Kings II: African Portraits             0   210897   \n",
       "3      game                  Planetary Annihilation            0   233250   \n",
       "4       dlc  Mark of the Ninja: Special Edition DLC           17   239570   \n",
       "...     ...                                     ...          ...      ...   \n",
       "86619  game                       Garrison Gauntlet            0   912360   \n",
       "86620  game              Battle Realms: Zen Edition            0  1025600   \n",
       "86621   dlc         We Happy Few - We All Fall Down           17  1024770   \n",
       "86622  game                           Bombing Quest            0  1018860   \n",
       "86623  game                               Suite 776            0  1197370   \n",
       "\n",
       "              release_date  initial_price  metacritic_score  windows    mac  \\\n",
       "0              May 5, 2009          999.0              57.0     True  False   \n",
       "1              Aug 4, 2010          599.0              66.0     True  False   \n",
       "2             Oct 16, 2012          199.0               NaN     True   True   \n",
       "3              Sep 5, 2014         2999.0              62.0     True   True   \n",
       "4             Aug 16, 2013          499.0               NaN     True   True   \n",
       "...                    ...            ...               ...      ...    ...   \n",
       "86619  2018-08-17 00:00:00           99.0               NaN     True  False   \n",
       "86620  2019-12-03 00:00:00          999.0              82.0     True  False   \n",
       "86621  2019-11-19 00:00:00          799.0               NaN     True  False   \n",
       "86622  2020-03-04 00:00:00         1499.0               NaN     True  False   \n",
       "86623  2019-12-06 00:00:00          399.0               NaN     True  False   \n",
       "\n",
       "       linux                   publisher                   developer  \\\n",
       "0      False           DTP Entertainment             Master Creating   \n",
       "1      False                 Cyan Worlds                 Cyan Worlds   \n",
       "2       True         Paradox Interactive         Paradox Interactive   \n",
       "3       True  Planetary Annihilation Inc  Planetary Annihilation Inc   \n",
       "4       True                                      Klei Entertainment   \n",
       "...      ...                         ...                         ...   \n",
       "86619  False              Ryan Silberman              Ryan Silberman   \n",
       "86620  False             Ed Del Castillo             Ed Del Castillo   \n",
       "86621  False          Gearbox Publishing            Compulsion Games   \n",
       "86622  False                    Team Puh                    Team Puh   \n",
       "86623  False                     TurnVex        Stanislaw Truchowski   \n",
       "\n",
       "       number_dlc  number_genres  number_categories  total_recommendations  \n",
       "0               0              2                  1                    NaN  \n",
       "1               0              2                  1                  231.0  \n",
       "2               0              1                  3                    NaN  \n",
       "3               2              1                  6                14931.0  \n",
       "4               0              3                  8                  239.0  \n",
       "...           ...            ...                ...                    ...  \n",
       "86619           0              2                  1                    NaN  \n",
       "86620           0              3                  6                 1836.0  \n",
       "86621           0              3                  6                    NaN  \n",
       "86622           0              4                  4                    NaN  \n",
       "86623           0              3                  2                  407.0  \n",
       "\n",
       "[86624 rows x 16 columns]"
      ]
     },
     "execution_count": 6,
     "metadata": {},
     "output_type": "execute_result"
    }
   ],
   "source": [
    "df"
   ]
  },
  {
   "cell_type": "code",
   "execution_count": 7,
   "metadata": {},
   "outputs": [
    {
     "name": "stdout",
     "output_type": "stream",
     "text": [
      "<class 'pandas.core.frame.DataFrame'>\n",
      "RangeIndex: 86624 entries, 0 to 86623\n",
      "Data columns (total 16 columns):\n",
      " #   Column                 Non-Null Count  Dtype  \n",
      "---  ------                 --------------  -----  \n",
      " 0   type                   86624 non-null  object \n",
      " 1   name                   86624 non-null  object \n",
      " 2   required_age           86624 non-null  object \n",
      " 3   appid                  86624 non-null  int64  \n",
      " 4   release_date           86624 non-null  object \n",
      " 5   initial_price          79834 non-null  float64\n",
      " 6   metacritic_score       3820 non-null   float64\n",
      " 7   windows                86624 non-null  bool   \n",
      " 8   mac                    86624 non-null  bool   \n",
      " 9   linux                  86624 non-null  bool   \n",
      " 10  publisher              86624 non-null  object \n",
      " 11  developer              85067 non-null  object \n",
      " 12  number_dlc             86624 non-null  int64  \n",
      " 13  number_genres          86624 non-null  int64  \n",
      " 14  number_categories      86624 non-null  int64  \n",
      " 15  total_recommendations  12958 non-null  float64\n",
      "dtypes: bool(3), float64(3), int64(4), object(6)\n",
      "memory usage: 8.8+ MB\n"
     ]
    }
   ],
   "source": [
    "df.info()"
   ]
  },
  {
   "cell_type": "code",
   "execution_count": 8,
   "metadata": {},
   "outputs": [
    {
     "ename": "ValueError",
     "evalue": "Unable to parse string \"7+\" at position 47449",
     "output_type": "error",
     "traceback": [
      "\u001b[0;31m---------------------------------------------------------------------------\u001b[0m",
      "\u001b[0;31mValueError\u001b[0m                                Traceback (most recent call last)",
      "File \u001b[0;32m/usr/local/lib/python3.8/dist-packages/pandas/_libs/lib.pyx:2315\u001b[0m, in \u001b[0;36mpandas._libs.lib.maybe_convert_numeric\u001b[0;34m()\u001b[0m\n",
      "\u001b[0;31mValueError\u001b[0m: Unable to parse string \"7+\"",
      "\nDuring handling of the above exception, another exception occurred:\n",
      "\u001b[0;31mValueError\u001b[0m                                Traceback (most recent call last)",
      "Input \u001b[0;32mIn [8]\u001b[0m, in \u001b[0;36m<module>\u001b[0;34m\u001b[0m\n\u001b[1;32m      5\u001b[0m df[\u001b[38;5;124m'\u001b[39m\u001b[38;5;124mrelease_date\u001b[39m\u001b[38;5;124m'\u001b[39m] \u001b[38;5;241m=\u001b[39m pd\u001b[38;5;241m.\u001b[39mto_datetime(df[\u001b[38;5;124m'\u001b[39m\u001b[38;5;124mrelease_date\u001b[39m\u001b[38;5;124m'\u001b[39m])\n\u001b[1;32m      7\u001b[0m \u001b[38;5;66;03m# convert column to int64 type\u001b[39;00m\n\u001b[0;32m----> 8\u001b[0m df[\u001b[38;5;124m'\u001b[39m\u001b[38;5;124mrequired_age\u001b[39m\u001b[38;5;124m'\u001b[39m] \u001b[38;5;241m=\u001b[39m \u001b[43mpd\u001b[49m\u001b[38;5;241;43m.\u001b[39;49m\u001b[43mto_numeric\u001b[49m\u001b[43m(\u001b[49m\u001b[43mdf\u001b[49m\u001b[43m[\u001b[49m\u001b[38;5;124;43m'\u001b[39;49m\u001b[38;5;124;43mrequired_age\u001b[39;49m\u001b[38;5;124;43m'\u001b[39;49m\u001b[43m]\u001b[49m\u001b[43m)\u001b[49m\n",
      "File \u001b[0;32m/usr/local/lib/python3.8/dist-packages/pandas/core/tools/numeric.py:184\u001b[0m, in \u001b[0;36mto_numeric\u001b[0;34m(arg, errors, downcast)\u001b[0m\n\u001b[1;32m    182\u001b[0m coerce_numeric \u001b[38;5;241m=\u001b[39m errors \u001b[38;5;129;01mnot\u001b[39;00m \u001b[38;5;129;01min\u001b[39;00m (\u001b[38;5;124m\"\u001b[39m\u001b[38;5;124mignore\u001b[39m\u001b[38;5;124m\"\u001b[39m, \u001b[38;5;124m\"\u001b[39m\u001b[38;5;124mraise\u001b[39m\u001b[38;5;124m\"\u001b[39m)\n\u001b[1;32m    183\u001b[0m \u001b[38;5;28;01mtry\u001b[39;00m:\n\u001b[0;32m--> 184\u001b[0m     values, _ \u001b[38;5;241m=\u001b[39m \u001b[43mlib\u001b[49m\u001b[38;5;241;43m.\u001b[39;49m\u001b[43mmaybe_convert_numeric\u001b[49m\u001b[43m(\u001b[49m\n\u001b[1;32m    185\u001b[0m \u001b[43m        \u001b[49m\u001b[43mvalues\u001b[49m\u001b[43m,\u001b[49m\u001b[43m \u001b[49m\u001b[38;5;28;43mset\u001b[39;49m\u001b[43m(\u001b[49m\u001b[43m)\u001b[49m\u001b[43m,\u001b[49m\u001b[43m \u001b[49m\u001b[43mcoerce_numeric\u001b[49m\u001b[38;5;241;43m=\u001b[39;49m\u001b[43mcoerce_numeric\u001b[49m\n\u001b[1;32m    186\u001b[0m \u001b[43m    \u001b[49m\u001b[43m)\u001b[49m\n\u001b[1;32m    187\u001b[0m \u001b[38;5;28;01mexcept\u001b[39;00m (\u001b[38;5;167;01mValueError\u001b[39;00m, \u001b[38;5;167;01mTypeError\u001b[39;00m):\n\u001b[1;32m    188\u001b[0m     \u001b[38;5;28;01mif\u001b[39;00m errors \u001b[38;5;241m==\u001b[39m \u001b[38;5;124m\"\u001b[39m\u001b[38;5;124mraise\u001b[39m\u001b[38;5;124m\"\u001b[39m:\n",
      "File \u001b[0;32m/usr/local/lib/python3.8/dist-packages/pandas/_libs/lib.pyx:2357\u001b[0m, in \u001b[0;36mpandas._libs.lib.maybe_convert_numeric\u001b[0;34m()\u001b[0m\n",
      "\u001b[0;31mValueError\u001b[0m: Unable to parse string \"7+\" at position 47449"
     ]
    }
   ],
   "source": [
    "# fix cases where it lists 'age+'\n",
    "df['required_age'] = df['required_age'].replace(['17+'],'17')\n",
    "df['required_age'] = df['required_age'].replace(['7+'],'7')\n",
    "\n",
    "# convert column to datetime\n",
    "df['release_date'] = pd.to_datetime(df['release_date'])\n",
    "\n",
    "# convert column to int64 type\n",
    "df['required_age'] = pd.to_numeric(df['required_age'])"
   ]
  },
  {
   "cell_type": "code",
   "execution_count": null,
   "metadata": {},
   "outputs": [],
   "source": [
    "# figure out the release day in the year\n",
    "df['release_day_in_year'] = df['release_date'].dt.dayofyear"
   ]
  },
  {
   "cell_type": "code",
   "execution_count": null,
   "metadata": {},
   "outputs": [],
   "source": [
    "# aggregate the steam recommendations and tie them in\n",
    "\n",
    "ret = apps.aggregate([\n",
    "    {\"$unwind\":\"$reviews\"},\n",
    "    {\"$unwind\":\"$reviews.rollups\"},\n",
    "    {\n",
    "        \"$group\": {\n",
    "            \"_id\": \"$appid\",\n",
    "           \"sum_recommendations_up\": {\"$sum\": \"$reviews.rollups.recommendations_up\"},\n",
    "            \"sum_recommendations_down\": {\"$sum\": \"$reviews.rollups.recommendations_down\"}\n",
    "        }\n",
    "    }\n",
    "])\n",
    "\n",
    "# save as pandas dataframe\n",
    "recommendations = pd.DataFrame(ret)\n",
    "recommendations = recommendations.rename(columns={\"_id\": \"appid\"})\n",
    "\n",
    "recommendations.info()"
   ]
  },
  {
   "cell_type": "code",
   "execution_count": null,
   "metadata": {},
   "outputs": [],
   "source": [
    "df = pd.merge(df, recommendations, on=\"appid\", how=\"left\")\n",
    "del recommendations"
   ]
  },
  {
   "cell_type": "code",
   "execution_count": null,
   "metadata": {},
   "outputs": [],
   "source": [
    "df"
   ]
  },
  {
   "cell_type": "code",
   "execution_count": null,
   "metadata": {},
   "outputs": [],
   "source": [
    "df.info()"
   ]
  },
  {
   "cell_type": "code",
   "execution_count": null,
   "metadata": {},
   "outputs": [],
   "source": [
    "ret = history.aggregate([\n",
    "    {\"$match\": {\"discount_percent\": {\"$gte\": percentage_discount_predict}}},\n",
    "    {\"$group\": {\"_id\": \"$appid\", \"date\": {\"$min\": \"$date\"}}},\n",
    "    {\"$project\": {\"_id\":0, \"appid\":\"$_id\", \"date\":1}}\n",
    "])"
   ]
  },
  {
   "cell_type": "code",
   "execution_count": null,
   "metadata": {},
   "outputs": [],
   "source": [
    "history_df = pd.DataFrame(ret)"
   ]
  },
  {
   "cell_type": "code",
   "execution_count": null,
   "metadata": {},
   "outputs": [],
   "source": [
    "history_df"
   ]
  },
  {
   "cell_type": "code",
   "execution_count": null,
   "metadata": {},
   "outputs": [],
   "source": [
    "history_df.info()"
   ]
  },
  {
   "cell_type": "code",
   "execution_count": null,
   "metadata": {},
   "outputs": [],
   "source": [
    "df = pd.merge(df, history_df, on=\"appid\", how=\"left\")\n",
    "del history_df"
   ]
  },
  {
   "cell_type": "code",
   "execution_count": null,
   "metadata": {},
   "outputs": [],
   "source": [
    "# find time in days between release and at least X% off\n",
    "df['days_until_discount'] = df['date'] - df['release_date']\n",
    "df['days_until_discount'] = df['days_until_discount'] / np.timedelta64(1,\"D\")"
   ]
  },
  {
   "cell_type": "code",
   "execution_count": null,
   "metadata": {},
   "outputs": [],
   "source": [
    "df"
   ]
  },
  {
   "cell_type": "code",
   "execution_count": null,
   "metadata": {},
   "outputs": [],
   "source": [
    "# get top games information\n",
    "\n",
    "ret = topgames.aggregate([\n",
    "    {\"$match\": {}},\n",
    "    {\"$project\": {\"_id\":0, \"date\":1, \"appid\":1, \"currentplayers\":1, \"peaktoday\":1}}\n",
    "])\n",
    "tgames = pd.DataFrame(ret)\n",
    "tgames['appid'] = pd.to_numeric(tgames['appid'])\n",
    "\n",
    "tgames = pd.merge(tgames, df[[\"appid\", \"release_date\"]], on=\"appid\", how=\"left\").dropna()\n",
    "\n",
    "tgames"
   ]
  },
  {
   "cell_type": "code",
   "execution_count": null,
   "metadata": {},
   "outputs": [],
   "source": [
    "tgames.info()"
   ]
  },
  {
   "cell_type": "code",
   "execution_count": null,
   "metadata": {},
   "outputs": [],
   "source": [
    "# find difference between entry date and release date\n",
    "tgames['days_since_release'] = (tgames['date'] - tgames['release_date']).dt.days\n",
    "\n",
    "#tgames.query(\"appid==1097150 & days_since_release>=0 & days_since_release<=30\")\n",
    "tgames"
   ]
  },
  {
   "cell_type": "code",
   "execution_count": null,
   "metadata": {},
   "outputs": [],
   "source": [
    "bins = range(-1, 7, 1)\n",
    "groups = tgames.groupby(['appid', pd.cut(tgames.days_since_release, bins, labels=[\"start_players_{:01d}\".format(x) for x in bins[:-1]])])\n",
    "groups = groups.mean().currentplayers.unstack()\n",
    "groups = groups.fillna(0)\n",
    "\n",
    "#groups[groups.index.isin([1097150])]\n",
    "groups"
   ]
  },
  {
   "cell_type": "code",
   "execution_count": null,
   "metadata": {},
   "outputs": [],
   "source": [
    "df = pd.merge(df, groups, left_on=\"appid\", right_index=True, how=\"left\")\n",
    "del groups\n",
    "del tgames\n",
    "\n",
    "df"
   ]
  },
  {
   "cell_type": "code",
   "execution_count": null,
   "metadata": {},
   "outputs": [],
   "source": [
    "df.info()"
   ]
  },
  {
   "cell_type": "code",
   "execution_count": null,
   "metadata": {},
   "outputs": [],
   "source": [
    "# get twitch games\n",
    "\n",
    "ret = twitch.aggregate([\n",
    "    {\"$match\": {}},\n",
    "    {\"$project\": {\"_id\":0, \"date\":1, \"name\":1, \"gamerank\":1, \"viewer_count\":1}}\n",
    "])\n",
    "twitch_df = pd.DataFrame(ret)\n",
    "\n",
    "twitch_df = pd.merge(twitch_df, df[[\"name\", \"release_date\"]], on=\"name\", how=\"left\").dropna()\n",
    "\n",
    "twitch_df"
   ]
  },
  {
   "cell_type": "code",
   "execution_count": null,
   "metadata": {},
   "outputs": [],
   "source": [
    "twitch_df.info()"
   ]
  },
  {
   "cell_type": "code",
   "execution_count": null,
   "metadata": {},
   "outputs": [],
   "source": [
    "# find difference between entry date and release date\n",
    "twitch_df['days_since_release'] = (twitch_df['date'] - twitch_df['release_date']).dt.days\n",
    "\n",
    "#twitch_df.query(\"appid==1097150 & days_since_release>=0 & days_since_release<=30\")\n",
    "twitch_df"
   ]
  },
  {
   "cell_type": "code",
   "execution_count": null,
   "metadata": {},
   "outputs": [],
   "source": [
    "bins = range(-1, 7, 1)\n",
    "groups_viewers = twitch_df.groupby(['name', pd.cut(twitch_df.days_since_release, bins, labels=[\"start_twitch_viewers_{:01d}\".format(x) for x in bins[:-1]])])\n",
    "groups_viewers = groups_viewers.mean().viewer_count.unstack()\n",
    "groups_viewers = groups_viewers.fillna(0)\n",
    "\n",
    "groups_viewers"
   ]
  },
  {
   "cell_type": "code",
   "execution_count": null,
   "metadata": {},
   "outputs": [],
   "source": [
    "bins = range(-1, 7, 1)\n",
    "groups_rank = twitch_df.groupby(['name', pd.cut(twitch_df.days_since_release, bins, labels=[\"start_twitch_rank_{:01d}\".format(x) for x in bins[:-1]])])\n",
    "groups_rank = groups_rank.mean().gamerank.unstack()\n",
    "groups_rank = groups_rank.fillna(0)\n",
    "\n",
    "groups_rank"
   ]
  },
  {
   "cell_type": "code",
   "execution_count": null,
   "metadata": {},
   "outputs": [],
   "source": [
    "# merge twitch viewership and gamerank back into master df\n",
    "df = pd.merge(df, groups_viewers, left_on=\"name\", right_index=True, how=\"left\")\n",
    "del groups_viewers\n",
    "df = pd.merge(df, groups_rank, left_on=\"name\", right_index=True, how=\"left\")\n",
    "del groups_rank\n",
    "\n",
    "del twitch_df"
   ]
  },
  {
   "cell_type": "code",
   "execution_count": null,
   "metadata": {},
   "outputs": [],
   "source": [
    "# fill in all the NaN spots\n",
    "players_filter_col = [c for c in df.columns if c.startswith('start')]\n",
    "print(players_filter_col)\n",
    "df[players_filter_col] = df[players_filter_col].fillna(0)"
   ]
  },
  {
   "cell_type": "code",
   "execution_count": null,
   "metadata": {},
   "outputs": [],
   "source": [
    "df"
   ]
  },
  {
   "cell_type": "code",
   "execution_count": null,
   "metadata": {},
   "outputs": [],
   "source": [
    "df.info()"
   ]
  },
  {
   "cell_type": "code",
   "execution_count": null,
   "metadata": {},
   "outputs": [],
   "source": [
    "ret = opencritic.aggregate([\n",
    "    {\"$match\": {\"steamId\": {\"$exists\": True, \"$nin\": [None, \"\", \"null\", \"NaN\"], \"$not\": {\"$type\": 10}}}},\n",
    "    {\"$project\": {\"_id\":0, \"appid\":\"$steamId\", \"game_type\":\"$type\", \"hasLootBoxes\":1, \"isMajorTitle\":1, \"medianScore\":1, \"numReviews\":1,\n",
    "                  \"numTopCriticReviews\":1, \"percentRecommended\":1, \"percentile\":1, \"tier\":1, \"topCriticScore\":1,\n",
    "                 \"number_platforms\": {'$size': {\"$ifNull\": [ \"$Platforms\", [] ]}}, \"number_skus\": {'$size': {\"$ifNull\": [ \"$Skus\", [] ]}}}}\n",
    "])"
   ]
  },
  {
   "cell_type": "code",
   "execution_count": null,
   "metadata": {},
   "outputs": [],
   "source": [
    "opencritic_df = pd.DataFrame(ret)\n",
    "\n",
    "# fix cases where we don't have data\n",
    "opencritic_df = opencritic_df.replace({'medianScore': -1, 'percentRecommended': -1, 'percentile': -1, 'topCriticScore': -1}, np.nan)\n",
    "\n",
    "opencritic_df"
   ]
  },
  {
   "cell_type": "code",
   "execution_count": null,
   "metadata": {},
   "outputs": [],
   "source": [
    "opencritic_df.describe()"
   ]
  },
  {
   "cell_type": "code",
   "execution_count": null,
   "metadata": {},
   "outputs": [],
   "source": [
    "# convert object to int64 type\n",
    "opencritic_df[\"appid\"] = pd.to_numeric(opencritic_df[\"appid\"])"
   ]
  },
  {
   "cell_type": "code",
   "execution_count": null,
   "metadata": {},
   "outputs": [],
   "source": [
    "# NaNs will be pruned out later, in order to use as much of the sparse OpenCritic data that we have, we fill it in with zeros\n",
    "opencritic_df.fillna(0, inplace=True)"
   ]
  },
  {
   "cell_type": "code",
   "execution_count": null,
   "metadata": {},
   "outputs": [],
   "source": [
    "opencritic_df"
   ]
  },
  {
   "cell_type": "code",
   "execution_count": null,
   "metadata": {},
   "outputs": [],
   "source": [
    "opencritic_df.info()"
   ]
  },
  {
   "cell_type": "code",
   "execution_count": null,
   "metadata": {},
   "outputs": [],
   "source": [
    "df = pd.merge(df, opencritic_df, on=\"appid\", how=\"left\")\n",
    "del opencritic_df"
   ]
  },
  {
   "cell_type": "code",
   "execution_count": null,
   "metadata": {},
   "outputs": [],
   "source": [
    "df"
   ]
  },
  {
   "cell_type": "code",
   "execution_count": null,
   "metadata": {},
   "outputs": [],
   "source": [
    "# https://analyticsindiamag.com/5-ways-handle-missing-values-machine-learning-datasets/\n",
    "# TODO: use mean or median for cases where we have missing data\n",
    "\n",
    "\n",
    "\n",
    "# just assume anything not filled in doesn't have loot boxes\n",
    "#df = df.replace({'hasLootBoxes': np.nan}, False)"
   ]
  },
  {
   "cell_type": "code",
   "execution_count": null,
   "metadata": {},
   "outputs": [],
   "source": [
    "df.info()"
   ]
  },
  {
   "cell_type": "code",
   "execution_count": null,
   "metadata": {},
   "outputs": [],
   "source": [
    "# we can't run prediction with empty values\n",
    "# make a copy so we can continue modifying the dataframe\n",
    "df = df.dropna().copy()"
   ]
  },
  {
   "cell_type": "code",
   "execution_count": null,
   "metadata": {},
   "outputs": [],
   "source": [
    "df"
   ]
  },
  {
   "cell_type": "code",
   "execution_count": null,
   "metadata": {},
   "outputs": [],
   "source": [
    "df.info()"
   ]
  },
  {
   "cell_type": "code",
   "execution_count": null,
   "metadata": {},
   "outputs": [],
   "source": [
    "feature_list = ['required_age', 'metacritic_score', 'sum_recommendations_up', 'sum_recommendations_down', 'total_recommendations', 'initial_price', 'windows_num',\n",
    "                'mac_num', 'linux_num', 'developer_num', 'publisher_num',\n",
    "               'number_dlc', 'release_day_in_year', 'number_genres', 'number_categories']\n",
    "\n",
    "# items from OpenCritic\n",
    "feature_list = feature_list + ['type_num', 'hasLootBoxes_num', 'isMajorTitle_num',\n",
    "            'tier_num', 'game_type_num', 'medianScore', 'numReviews', 'numTopCriticReviews', 'percentRecommended', 'percentile',\n",
    "            'topCriticScore', 'number_platforms', 'number_skus']\n",
    "\n",
    "feature_list = feature_list + players_filter_col\n",
    "print(feature_list)\n",
    "\n",
    "assembler = VectorAssembler(inputCols=feature_list, outputCol=\"features\")"
   ]
  },
  {
   "cell_type": "code",
   "execution_count": null,
   "metadata": {},
   "outputs": [],
   "source": [
    "# https://www.silect.is/blog/2019/4/2/random-forest-in-spark-ml\n",
    "# an example Random Forest in Spark"
   ]
  },
  {
   "cell_type": "code",
   "execution_count": null,
   "metadata": {},
   "outputs": [],
   "source": [
    "# encode columns to numeric so we can run regression(s)\n",
    "\n",
    "# items from OpenCritic\n",
    "df['type_num'] = pd.factorize(df['type'])[0]\n",
    "df['hasLootBoxes_num'] = pd.factorize(df['hasLootBoxes'])[0]\n",
    "df['isMajorTitle_num'] = pd.factorize(df['isMajorTitle'])[0]\n",
    "df['tier_num'] = pd.factorize(df['tier'])[0]\n",
    "df['game_type_num'] = pd.factorize(df['game_type'])[0]\n",
    "\n",
    "df['windows_num'] = pd.factorize(df['windows'])[0]\n",
    "df['mac_num'] = pd.factorize(df['mac'])[0]\n",
    "df['linux_num'] = pd.factorize(df['linux'])[0]\n",
    "df['developer_num'] = pd.factorize(df['developer'])[0]\n",
    "df['publisher_num'] = pd.factorize(df['publisher'])[0]"
   ]
  },
  {
   "cell_type": "code",
   "execution_count": null,
   "metadata": {},
   "outputs": [],
   "source": [
    "df"
   ]
  },
  {
   "cell_type": "code",
   "execution_count": null,
   "metadata": {},
   "outputs": [],
   "source": [
    "df.info()"
   ]
  },
  {
   "cell_type": "code",
   "execution_count": null,
   "metadata": {},
   "outputs": [],
   "source": [
    "# TODO: qq plot, residuals, etc.\n",
    "# https://github.com/tirthajyoti/Machine-Learning-with-Python/blob/master/Regression/Regression_Diagnostics.ipynb\n",
    "# https://towardsdatascience.com/how-do-you-check-the-quality-of-your-regression-model-in-python-fa61759ff685\n"
   ]
  },
  {
   "cell_type": "code",
   "execution_count": null,
   "metadata": {},
   "outputs": [],
   "source": [
    "# perform k-means clustering to create an additional numeric column for feature engineering\n",
    "# https://www.kaggle.com/ryanholbrook/clustering-with-k-means\n",
    "# https://spark.apache.org/docs/latest/ml-clustering.html\n",
    "\n",
    "# https://stackoverflow.com/questions/37513355/converting-pandas-dataframe-into-spark-dataframe-error\n",
    "schema = StructType([ StructField(\"type\", StringType(), True)\\\n",
    "                       ,StructField(\"name\", StringType(), True)\\\n",
    "                       ,StructField(\"required_age\", IntegerType(), True)\\\n",
    "                       ,StructField(\"appid\", IntegerType(), True)\\\n",
    "                       ,StructField(\"release_date\", DateType(), True)\\\n",
    "                       ,StructField(\"initial_price\", DoubleType(), True)\\\n",
    "                       ,StructField(\"metacritic_score\", DoubleType(), True)\\\n",
    "                       ,StructField(\"windows\", BooleanType(), True)\\\n",
    "                       ,StructField(\"mac\", BooleanType(), True)\\\n",
    "                       ,StructField(\"linux\", BooleanType(), True)\\\n",
    "                       ,StructField(\"publisher\", StringType(), True)\\\n",
    "                       ,StructField(\"developer\", StringType(), True)\\\n",
    "                       ,StructField(\"number_dlc\", IntegerType(), True)\\\n",
    "                       ,StructField(\"number_genres\", IntegerType(), True)\\\n",
    "                       ,StructField(\"number_categories\", IntegerType(), True)\\\n",
    "                       ,StructField(\"total_recommendations\", DoubleType(), True)\\\n",
    "                       ,StructField(\"release_day_in_year\", DoubleType(), True)\\\n",
    "                       ,StructField(\"sum_recommendations_up\", DoubleType(), True)\\\n",
    "                       ,StructField(\"sum_recommendations_down\", DoubleType(), True)\\\n",
    "                       ,StructField(\"date\", DateType(), True)\\\n",
    "                       ,StructField(\"days_until_discount\", DoubleType(), True)\\\n",
    "                       ,StructField(\"start_players_-1\", DoubleType(), True)\\\n",
    "                       ,StructField(\"start_players_0\", DoubleType(), True)\\\n",
    "                       ,StructField(\"start_players_1\", DoubleType(), True)\\\n",
    "                       ,StructField(\"start_players_2\", DoubleType(), True)\\\n",
    "                       ,StructField(\"start_players_3\", DoubleType(), True)\\\n",
    "                       ,StructField(\"start_players_4\", DoubleType(), True)\\\n",
    "                       ,StructField(\"start_players_5\", DoubleType(), True)\\\n",
    "                       ,StructField(\"start_twitch_viewers_-1\", DoubleType(), True)\\\n",
    "                       ,StructField(\"start_twitch_viewers_0\", DoubleType(), True)\\\n",
    "                       ,StructField(\"start_twitch_viewers_1\", DoubleType(), True)\\\n",
    "                       ,StructField(\"start_twitch_viewers_2\", DoubleType(), True)\\\n",
    "                       ,StructField(\"start_twitch_viewers_3\", DoubleType(), True)\\\n",
    "                       ,StructField(\"start_twitch_viewers_4\", DoubleType(), True)\\\n",
    "                       ,StructField(\"start_twitch_viewers_5\", DoubleType(), True)\\\n",
    "                       ,StructField(\"start_twitch_rank_-1\", DoubleType(), True)\\\n",
    "                       ,StructField(\"start_twitch_rank_0\", DoubleType(), True)\\\n",
    "                       ,StructField(\"start_twitch_rank_1\", DoubleType(), True)\\\n",
    "                       ,StructField(\"start_twitch_rank_2\", DoubleType(), True)\\\n",
    "                       ,StructField(\"start_twitch_rank_3\", DoubleType(), True)\\\n",
    "                       ,StructField(\"start_twitch_rank_4\", DoubleType(), True)\\\n",
    "                       ,StructField(\"start_twitch_rank_5\", DoubleType(), True)\\\n",
    "                       ,StructField(\"hasLootBoxes\", StringType(), True)\\\n",
    "                       ,StructField(\"isMajorTitle\", StringType(), True)\\\n",
    "                       ,StructField(\"medianScore\", DoubleType(), True)\\\n",
    "                       ,StructField(\"numReviews\", DoubleType(), True)\\\n",
    "                       ,StructField(\"numTopCriticReviews\", DoubleType(), True)\\\n",
    "                       ,StructField(\"percentRecommended\", DoubleType(), True)\\\n",
    "                       ,StructField(\"percentile\", DoubleType(), True)\\\n",
    "                       ,StructField(\"tier\", StringType(), True)\\\n",
    "                       ,StructField(\"topCriticScore\", DoubleType(), True)\\\n",
    "                       ,StructField(\"game_type\", StringType(), True)\\\n",
    "                       ,StructField(\"number_platforms\", DoubleType(), True)\\\n",
    "                       ,StructField(\"number_skus\", DoubleType(), True)\\\n",
    "                       ,StructField(\"type_num\", IntegerType(), True)\\\n",
    "                       ,StructField(\"hasLootBoxes_num\", IntegerType(), True)\\\n",
    "                       ,StructField(\"isMajorTitle_num\", IntegerType(), True)\\\n",
    "                       ,StructField(\"tier_num\", IntegerType(), True)\\\n",
    "                       ,StructField(\"game_type_num\", IntegerType(), True)\\\n",
    "                       ,StructField(\"windows_num\", IntegerType(), True)\\\n",
    "                       ,StructField(\"mac_num\", IntegerType(), True)\\\n",
    "                       ,StructField(\"linux_num\", IntegerType(), True)\\\n",
    "                       ,StructField(\"developer_num\", IntegerType(), True)\\\n",
    "                       ,StructField(\"publisher_num\", IntegerType(), True)])\n",
    "\n",
    "# convert pandas dataframe to spark dataframe\n",
    "temp_df = sqlContext.createDataFrame(df, schema=schema)\n",
    "temp_df.printSchema()\n",
    "\n",
    "dataset = assembler.transform(temp_df)\n",
    "dataset.select(\"features\").show(truncate=False)\n",
    "\n",
    "cost = np.ones(17)\n",
    "for k in range(2,17):\n",
    "    # Trains a k-means model.\n",
    "    kmeans = KMeans(k=k).setSeed(1)\n",
    "    model = kmeans.fit(dataset)\n",
    "    \n",
    "    # Make predictions\n",
    "    predictions = model.transform(dataset)\n",
    "\n",
    "    # Evaluate clustering by computing Silhouette score\n",
    "    evaluator = ClusteringEvaluator()\n",
    "\n",
    "    silhouette = evaluator.evaluate(predictions)\n",
    "    print(\"k: \" + str(k) + \" - Silhouette with squared euclidean distance = \" + str(silhouette))\n",
    "    \n",
    "    cost[k] = silhouette\n",
    "\n",
    "    # Shows the result.\n",
    "    centers = model.clusterCenters()\n",
    "    #print(\"Cluster Centers: \")\n",
    "    #for center in centers:\n",
    "        #print(center)\n",
    "    \n",
    "del temp_df"
   ]
  },
  {
   "cell_type": "code",
   "execution_count": null,
   "metadata": {},
   "outputs": [],
   "source": [
    "plt.plot(np.arange(1,18), cost, linestyle='solid')\n",
    "plt.ylabel('Silhouette cost')\n",
    "plt.xlabel('k clusters')\n",
    "plt.title('Cost from changing k clusters')"
   ]
  },
  {
   "cell_type": "code",
   "execution_count": null,
   "metadata": {},
   "outputs": [],
   "source": [
    "# Trains a k-means model.\n",
    "kmeans = KMeans(k=10).setSeed(1)\n",
    "model = kmeans.fit(dataset)\n",
    "\n",
    "# Make predictions\n",
    "predictions = model.transform(dataset)\n",
    "\n",
    "# Evaluate clustering by computing Silhouette score\n",
    "evaluator = ClusteringEvaluator()\n",
    "\n",
    "silhouette = evaluator.evaluate(predictions)\n",
    "print(\"Silhouette with squared euclidean distance = \" + str(silhouette))\n",
    "\n",
    "cost[k] = silhouette\n",
    "\n",
    "# Shows the result.\n",
    "centers = model.clusterCenters()\n",
    "print(\"Cluster Centers: \")\n",
    "for center in centers:\n",
    "    print(center)\n",
    "    \n",
    "cluster_predictions = predictions.toPandas()"
   ]
  },
  {
   "cell_type": "code",
   "execution_count": null,
   "metadata": {},
   "outputs": [],
   "source": [
    "cluster_predictions"
   ]
  },
  {
   "cell_type": "code",
   "execution_count": null,
   "metadata": {},
   "outputs": [],
   "source": [
    "cluster_predictions['prediction'].unique()"
   ]
  },
  {
   "cell_type": "code",
   "execution_count": null,
   "metadata": {},
   "outputs": [],
   "source": [
    "df['cluster_prediction'] = cluster_predictions['prediction'].values"
   ]
  },
  {
   "cell_type": "code",
   "execution_count": null,
   "metadata": {},
   "outputs": [],
   "source": [
    "df['cluster_prediction'].unique()"
   ]
  },
  {
   "cell_type": "code",
   "execution_count": null,
   "metadata": {},
   "outputs": [],
   "source": [
    "feature_list = feature_list + ['cluster_prediction']\n",
    "print(feature_list)"
   ]
  },
  {
   "cell_type": "code",
   "execution_count": null,
   "metadata": {},
   "outputs": [],
   "source": [
    "# persist and serialize objects to disk for next step\n",
    "pickle.dump(df, open(\"/work/df.p\", \"wb\"))\n",
    "pickle.dump(feature_list, open(\"/work/feature_list.p\", \"wb\"))"
   ]
  },
  {
   "cell_type": "code",
   "execution_count": 10,
   "metadata": {},
   "outputs": [],
   "source": [
    "sc.stop()"
   ]
  },
  {
   "cell_type": "code",
   "execution_count": null,
   "metadata": {},
   "outputs": [],
   "source": []
  }
 ],
 "metadata": {
  "kernelspec": {
   "display_name": "Python 3",
   "language": "python",
   "name": "python3"
  },
  "language_info": {
   "codemirror_mode": {
    "name": "ipython",
    "version": 3
   },
   "file_extension": ".py",
   "mimetype": "text/x-python",
   "name": "python",
   "nbconvert_exporter": "python",
   "pygments_lexer": "ipython3",
   "version": "3.8.10"
  }
 },
 "nbformat": 4,
 "nbformat_minor": 4
}
