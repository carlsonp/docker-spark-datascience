{
 "cells": [
  {
   "cell_type": "code",
   "execution_count": 1,
   "metadata": {},
   "outputs": [],
   "source": [
    "import sys, time, pickle, shutil\n",
    "from pyspark import SparkContext, SparkConf\n",
    "from pyspark.sql import *\n",
    "from pyspark.sql.types import *\n",
    "from IPython.display import display, HTML\n",
    "from pyspark.ml.feature import VectorAssembler\n",
    "from pyspark.ml.regression import RandomForestRegressor\n",
    "from pyspark.ml.regression import GBTRegressor\n",
    "from pyspark.ml.regression import LinearRegression\n",
    "from pyspark.ml.tuning import ParamGridBuilder\n",
    "from pyspark.ml import Pipeline\n",
    "from pyspark.ml.tuning import CrossValidator\n",
    "from pyspark.ml.evaluation import RegressionEvaluator\n",
    "from pyspark.ml.evaluation import ClusteringEvaluator\n",
    "import pandas as pd\n",
    "import numpy as np\n",
    "\n",
    "from sklearn.feature_selection import mutual_info_regression\n",
    "\n",
    "import matplotlib.pyplot as plt\n",
    "\n",
    "# make matplotlib plot sizes larger\n",
    "plt.rcParams['figure.figsize'] = [30, 20]\n",
    "\n",
    "conf = SparkConf().setAppName('Steam Random Forest Regressor').setMaster('spark://sparkmaster:7077')\n",
    "SparkContext.setSystemProperty('spark.executor.memory', '2g') # memory per executor\n",
    "SparkContext.setSystemProperty('spark.executor.cores', '6') # cores per executor\n",
    "SparkContext.setSystemProperty('spark.executor.instances', '3') # per worker (computer)\n",
    "\n",
    "# https://spark.apache.org/docs/3.0.0-preview/configuration.html#dynamic-allocation\n",
    "# https://stackoverflow.com/questions/26168254/how-to-set-amount-of-spark-executors\n",
    "# https://blog.cloudera.com/how-to-tune-your-apache-spark-jobs-part-2/\n",
    "\n",
    "# SparkContext.setSystemProperty(\"spark.shuffle.service.enabled\", \"True\") # required for dynamic allocation below\n",
    "# SparkContext.setSystemProperty(\"spark.dynamicAllocation.enabled\", \"True\")\n",
    "# SparkContext.setSystemProperty(\"spark.executor.cores\", \"4\")\n",
    "# SparkContext.setSystemProperty(\"spark.dynamicAllocation.minExecutors\", \"1\")\n",
    "# SparkContext.setSystemProperty(\"spark.dynamicAllocation.maxExecutors\", \"5\")\n",
    "# SparkContext.setSystemProperty('spark.executor.memory', '2g') # memory per executor\n",
    "\n",
    "sc = SparkContext(conf=conf)\n",
    "sqlContext = SQLContext(sc)"
   ]
  },
  {
   "cell_type": "code",
   "execution_count": 2,
   "metadata": {},
   "outputs": [
    {
     "data": {
      "text/plain": [
       "[('spark.executor.memory', '2g'),\n",
       " ('spark.driver.host', 'jupyterlab'),\n",
       " ('spark.executor.instances', '3'),\n",
       " ('spark.app.name', 'Steam Random Forest Regressor'),\n",
       " ('spark.executor.id', 'driver'),\n",
       " ('spark.master', 'spark://sparkmaster:7077'),\n",
       " ('spark.driver.port', '42839'),\n",
       " ('spark.executor.cores', '6'),\n",
       " ('spark.rdd.compress', 'True'),\n",
       " ('spark.serializer.objectStreamReset', '100'),\n",
       " ('spark.submit.pyFiles', ''),\n",
       " ('spark.submit.deployMode', 'client'),\n",
       " ('spark.app.id', 'app-20210726205841-0007'),\n",
       " ('spark.app.startTime', '1627354720348'),\n",
       " ('spark.ui.showConsoleProgress', 'true')]"
      ]
     },
     "execution_count": 2,
     "metadata": {},
     "output_type": "execute_result"
    }
   ],
   "source": [
    "sc._conf.getAll()"
   ]
  },
  {
   "cell_type": "code",
   "execution_count": 3,
   "metadata": {},
   "outputs": [],
   "source": [
    "df = pickle.load(open(\"/work/df.p\", \"rb\"))\n",
    "feature_list = pickle.load(open(\"/work/feature_list.p\", \"rb\"))"
   ]
  },
  {
   "cell_type": "code",
   "execution_count": 4,
   "metadata": {},
   "outputs": [],
   "source": [
    "assembler = VectorAssembler(inputCols=feature_list, outputCol=\"features\")"
   ]
  },
  {
   "cell_type": "code",
   "execution_count": 5,
   "metadata": {},
   "outputs": [],
   "source": [
    "rf = RandomForestRegressor(labelCol=\"days_until_discount\", featuresCol=\"features\")\n",
    "gbt = GBTRegressor(labelCol=\"days_until_discount\", featuresCol=\"features\")\n",
    "lr = LinearRegression(labelCol=\"days_until_discount\", featuresCol=\"features\")\n",
    "\n",
    "pipeline = Pipeline(stages=[assembler, rf])\n",
    "gbt_pipeline = Pipeline(stages=[assembler, gbt])\n",
    "linear_pipeline = Pipeline(stages=[assembler, lr])"
   ]
  },
  {
   "cell_type": "code",
   "execution_count": 6,
   "metadata": {},
   "outputs": [],
   "source": [
    "# TODO: tweak these parameters more\n",
    "\n",
    "# Random Forest\n",
    "paramGrid = ParamGridBuilder() \\\n",
    ".addGrid(rf.numTrees, [int(x) for x in np.linspace(start=10, stop=20, num=2)]) \\\n",
    ".addGrid(rf.maxDepth, [int(x) for x in np.linspace(start=1, stop=10, num=2)]) \\\n",
    ".build()\n",
    "#.addGrid(rf.maxBins, ?) \\ # should this also be set?\n",
    "\n",
    "# Gradient Boosted Tree\n",
    "gbt_paramGrid = ParamGridBuilder() \\\n",
    ".addGrid(gbt.maxIter, [int(x) for x in np.linspace(start=5, stop=25, num=2)]) \\\n",
    ".addGrid(gbt.maxDepth, [int(x) for x in np.linspace(start=1, stop=20, num=8)]) \\\n",
    ".build()\n",
    "#.addGrid(gbt.maxBins, ?) \\ # should this also be set?\n",
    "\n",
    "# Linear Regression\n",
    "linear_paramGrid = ParamGridBuilder() \\\n",
    ".addGrid(lr.regParam, [0.1, 0.01]) \\\n",
    ".addGrid(lr.fitIntercept, [False, True]) \\\n",
    ".addGrid(lr.elasticNetParam, [0.0, 0.5, 1.0]) \\\n",
    ".build()"
   ]
  },
  {
   "cell_type": "code",
   "execution_count": 7,
   "metadata": {},
   "outputs": [],
   "source": [
    "evaluator = RegressionEvaluator().setLabelCol(\"days_until_discount\")\n",
    "\n",
    "crossval = CrossValidator(estimator=pipeline,\n",
    "                         estimatorParamMaps=paramGrid,\n",
    "                         evaluator=evaluator,\n",
    "                         numFolds=3)\n",
    "\n",
    "gbt_crossval = CrossValidator(estimator=gbt_pipeline,\n",
    "                         estimatorParamMaps=gbt_paramGrid,\n",
    "                         evaluator=evaluator,\n",
    "                         numFolds=3)\n",
    "\n",
    "linear_crossval = CrossValidator(estimator=linear_pipeline,\n",
    "                         estimatorParamMaps=linear_paramGrid,\n",
    "                         evaluator=evaluator,\n",
    "                         numFolds=3)"
   ]
  },
  {
   "cell_type": "code",
   "execution_count": 8,
   "metadata": {},
   "outputs": [
    {
     "name": "stdout",
     "output_type": "stream",
     "text": [
      "<class 'pandas.core.frame.DataFrame'>\n",
      "Int64Index: 1354 entries, 329 to 76252\n",
      "Data columns (total 65 columns):\n",
      " #   Column                    Non-Null Count  Dtype         \n",
      "---  ------                    --------------  -----         \n",
      " 0   type                      1354 non-null   object        \n",
      " 1   name                      1354 non-null   object        \n",
      " 2   required_age              1354 non-null   int64         \n",
      " 3   appid                     1354 non-null   int64         \n",
      " 4   release_date              1354 non-null   datetime64[ns]\n",
      " 5   initial_price             1354 non-null   float64       \n",
      " 6   metacritic_score          1354 non-null   float64       \n",
      " 7   windows                   1354 non-null   bool          \n",
      " 8   mac                       1354 non-null   bool          \n",
      " 9   linux                     1354 non-null   bool          \n",
      " 10  publisher                 1354 non-null   object        \n",
      " 11  developer                 1354 non-null   object        \n",
      " 12  number_dlc                1354 non-null   int64         \n",
      " 13  number_genres             1354 non-null   int64         \n",
      " 14  number_categories         1354 non-null   int64         \n",
      " 15  total_recommendations     1354 non-null   float64       \n",
      " 16  release_day_in_year       1354 non-null   float64       \n",
      " 17  sum_recommendations_up    1354 non-null   float64       \n",
      " 18  sum_recommendations_down  1354 non-null   float64       \n",
      " 19  date                      1354 non-null   datetime64[ns]\n",
      " 20  days_until_discount       1354 non-null   float64       \n",
      " 21  start_players_-1          1354 non-null   float64       \n",
      " 22  start_players_0           1354 non-null   float64       \n",
      " 23  start_players_1           1354 non-null   float64       \n",
      " 24  start_players_2           1354 non-null   float64       \n",
      " 25  start_players_3           1354 non-null   float64       \n",
      " 26  start_players_4           1354 non-null   float64       \n",
      " 27  start_players_5           1354 non-null   float64       \n",
      " 28  start_twitch_viewers_-1   1354 non-null   float64       \n",
      " 29  start_twitch_viewers_0    1354 non-null   float64       \n",
      " 30  start_twitch_viewers_1    1354 non-null   float64       \n",
      " 31  start_twitch_viewers_2    1354 non-null   float64       \n",
      " 32  start_twitch_viewers_3    1354 non-null   float64       \n",
      " 33  start_twitch_viewers_4    1354 non-null   float64       \n",
      " 34  start_twitch_viewers_5    1354 non-null   float64       \n",
      " 35  start_twitch_rank_-1      1354 non-null   float64       \n",
      " 36  start_twitch_rank_0       1354 non-null   float64       \n",
      " 37  start_twitch_rank_1       1354 non-null   float64       \n",
      " 38  start_twitch_rank_2       1354 non-null   float64       \n",
      " 39  start_twitch_rank_3       1354 non-null   float64       \n",
      " 40  start_twitch_rank_4       1354 non-null   float64       \n",
      " 41  start_twitch_rank_5       1354 non-null   float64       \n",
      " 42  hasLootBoxes              1354 non-null   object        \n",
      " 43  isMajorTitle              1354 non-null   object        \n",
      " 44  medianScore               1354 non-null   float64       \n",
      " 45  numReviews                1354 non-null   float64       \n",
      " 46  numTopCriticReviews       1354 non-null   float64       \n",
      " 47  percentRecommended        1354 non-null   float64       \n",
      " 48  percentile                1354 non-null   float64       \n",
      " 49  tier                      1354 non-null   object        \n",
      " 50  topCriticScore            1354 non-null   float64       \n",
      " 51  game_type                 1354 non-null   object        \n",
      " 52  number_platforms          1354 non-null   float64       \n",
      " 53  number_skus               1354 non-null   float64       \n",
      " 54  type_num                  1354 non-null   int64         \n",
      " 55  hasLootBoxes_num          1354 non-null   int64         \n",
      " 56  isMajorTitle_num          1354 non-null   int64         \n",
      " 57  tier_num                  1354 non-null   int64         \n",
      " 58  game_type_num             1354 non-null   int64         \n",
      " 59  windows_num               1354 non-null   int64         \n",
      " 60  mac_num                   1354 non-null   int64         \n",
      " 61  linux_num                 1354 non-null   int64         \n",
      " 62  developer_num             1354 non-null   int64         \n",
      " 63  publisher_num             1354 non-null   int64         \n",
      " 64  cluster_prediction        1354 non-null   int32         \n",
      "dtypes: bool(3), datetime64[ns](2), float64(36), int32(1), int64(15), object(8)\n",
      "memory usage: 665.1+ KB\n"
     ]
    }
   ],
   "source": [
    "df.info()"
   ]
  },
  {
   "cell_type": "code",
   "execution_count": 9,
   "metadata": {},
   "outputs": [],
   "source": [
    "trainingData = df.sample(frac=0.8)\n",
    "testData = df.drop(trainingData.index)"
   ]
  },
  {
   "cell_type": "code",
   "execution_count": 10,
   "metadata": {},
   "outputs": [],
   "source": [
    "# https://stackoverflow.com/questions/37513355/converting-pandas-dataframe-into-spark-dataframe-error\n",
    "schema = StructType([ StructField(\"type\", StringType(), True)\\\n",
    "                       ,StructField(\"name\", StringType(), True)\\\n",
    "                       ,StructField(\"required_age\", IntegerType(), True)\\\n",
    "                       ,StructField(\"appid\", IntegerType(), True)\\\n",
    "                       ,StructField(\"release_date\", DateType(), True)\\\n",
    "                       ,StructField(\"initial_price\", DoubleType(), True)\\\n",
    "                       ,StructField(\"metacritic_score\", DoubleType(), True)\\\n",
    "                       ,StructField(\"windows\", BooleanType(), True)\\\n",
    "                       ,StructField(\"mac\", BooleanType(), True)\\\n",
    "                       ,StructField(\"linux\", BooleanType(), True)\\\n",
    "                       ,StructField(\"publisher\", StringType(), True)\\\n",
    "                       ,StructField(\"developer\", StringType(), True)\\\n",
    "                       ,StructField(\"number_dlc\", IntegerType(), True)\\\n",
    "                       ,StructField(\"number_genres\", IntegerType(), True)\\\n",
    "                       ,StructField(\"number_categories\", IntegerType(), True)\\\n",
    "                       ,StructField(\"total_recommendations\", DoubleType(), True)\\\n",
    "                       ,StructField(\"release_day_in_year\", DoubleType(), True)\\\n",
    "                       ,StructField(\"sum_recommendations_up\", DoubleType(), True)\\\n",
    "                       ,StructField(\"sum_recommendations_down\", DoubleType(), True)\\\n",
    "                       ,StructField(\"date\", DateType(), True)\\\n",
    "                       ,StructField(\"days_until_discount\", DoubleType(), True)\\\n",
    "                       ,StructField(\"start_players_-1\", DoubleType(), True)\\\n",
    "                       ,StructField(\"start_players_0\", DoubleType(), True)\\\n",
    "                       ,StructField(\"start_players_1\", DoubleType(), True)\\\n",
    "                       ,StructField(\"start_players_2\", DoubleType(), True)\\\n",
    "                       ,StructField(\"start_players_3\", DoubleType(), True)\\\n",
    "                       ,StructField(\"start_players_4\", DoubleType(), True)\\\n",
    "                       ,StructField(\"start_players_5\", DoubleType(), True)\\\n",
    "                       ,StructField(\"start_twitch_viewers_-1\", DoubleType(), True)\\\n",
    "                       ,StructField(\"start_twitch_viewers_0\", DoubleType(), True)\\\n",
    "                       ,StructField(\"start_twitch_viewers_1\", DoubleType(), True)\\\n",
    "                       ,StructField(\"start_twitch_viewers_2\", DoubleType(), True)\\\n",
    "                       ,StructField(\"start_twitch_viewers_3\", DoubleType(), True)\\\n",
    "                       ,StructField(\"start_twitch_viewers_4\", DoubleType(), True)\\\n",
    "                       ,StructField(\"start_twitch_viewers_5\", DoubleType(), True)\\\n",
    "                       ,StructField(\"start_twitch_rank_-1\", DoubleType(), True)\\\n",
    "                       ,StructField(\"start_twitch_rank_0\", DoubleType(), True)\\\n",
    "                       ,StructField(\"start_twitch_rank_1\", DoubleType(), True)\\\n",
    "                       ,StructField(\"start_twitch_rank_2\", DoubleType(), True)\\\n",
    "                       ,StructField(\"start_twitch_rank_3\", DoubleType(), True)\\\n",
    "                       ,StructField(\"start_twitch_rank_4\", DoubleType(), True)\\\n",
    "                       ,StructField(\"start_twitch_rank_5\", DoubleType(), True)\\\n",
    "                       ,StructField(\"hasLootBoxes\", StringType(), True)\\\n",
    "                       ,StructField(\"isMajorTitle\", StringType(), True)\\\n",
    "                       ,StructField(\"medianScore\", DoubleType(), True)\\\n",
    "                       ,StructField(\"numReviews\", DoubleType(), True)\\\n",
    "                       ,StructField(\"numTopCriticReviews\", DoubleType(), True)\\\n",
    "                       ,StructField(\"percentRecommended\", DoubleType(), True)\\\n",
    "                       ,StructField(\"percentile\", DoubleType(), True)\\\n",
    "                       ,StructField(\"tier\", StringType(), True)\\\n",
    "                       ,StructField(\"topCriticScore\", DoubleType(), True)\\\n",
    "                       ,StructField(\"game_type\", StringType(), True)\\\n",
    "                       ,StructField(\"number_platforms\", DoubleType(), True)\\\n",
    "                       ,StructField(\"number_skus\", DoubleType(), True)\\\n",
    "                       ,StructField(\"type_num\", IntegerType(), True)\\\n",
    "                       ,StructField(\"hasLootBoxes_num\", IntegerType(), True)\\\n",
    "                       ,StructField(\"isMajorTitle_num\", IntegerType(), True)\\\n",
    "                       ,StructField(\"tier_num\", IntegerType(), True)\\\n",
    "                       ,StructField(\"game_type_num\", IntegerType(), True)\\\n",
    "                       ,StructField(\"windows_num\", IntegerType(), True)\\\n",
    "                       ,StructField(\"mac_num\", IntegerType(), True)\\\n",
    "                       ,StructField(\"linux_num\", IntegerType(), True)\\\n",
    "                       ,StructField(\"developer_num\", IntegerType(), True)\\\n",
    "                       ,StructField(\"publisher_num\", IntegerType(), True)\\\n",
    "                       ,StructField(\"cluster_prediction\", IntegerType(), True)])"
   ]
  },
  {
   "cell_type": "code",
   "execution_count": 11,
   "metadata": {},
   "outputs": [],
   "source": [
    "# convert pandas dataframe to spark dataframe\n",
    "trainingData = sqlContext.createDataFrame(trainingData, schema=schema)\n",
    "testData = sqlContext.createDataFrame(testData, schema=schema)"
   ]
  },
  {
   "cell_type": "code",
   "execution_count": 12,
   "metadata": {},
   "outputs": [
    {
     "name": "stdout",
     "output_type": "stream",
     "text": [
      "root\n",
      " |-- type: string (nullable = true)\n",
      " |-- name: string (nullable = true)\n",
      " |-- required_age: integer (nullable = true)\n",
      " |-- appid: integer (nullable = true)\n",
      " |-- release_date: date (nullable = true)\n",
      " |-- initial_price: double (nullable = true)\n",
      " |-- metacritic_score: double (nullable = true)\n",
      " |-- windows: boolean (nullable = true)\n",
      " |-- mac: boolean (nullable = true)\n",
      " |-- linux: boolean (nullable = true)\n",
      " |-- publisher: string (nullable = true)\n",
      " |-- developer: string (nullable = true)\n",
      " |-- number_dlc: integer (nullable = true)\n",
      " |-- number_genres: integer (nullable = true)\n",
      " |-- number_categories: integer (nullable = true)\n",
      " |-- total_recommendations: double (nullable = true)\n",
      " |-- release_day_in_year: double (nullable = true)\n",
      " |-- sum_recommendations_up: double (nullable = true)\n",
      " |-- sum_recommendations_down: double (nullable = true)\n",
      " |-- date: date (nullable = true)\n",
      " |-- days_until_discount: double (nullable = true)\n",
      " |-- start_players_-1: double (nullable = true)\n",
      " |-- start_players_0: double (nullable = true)\n",
      " |-- start_players_1: double (nullable = true)\n",
      " |-- start_players_2: double (nullable = true)\n",
      " |-- start_players_3: double (nullable = true)\n",
      " |-- start_players_4: double (nullable = true)\n",
      " |-- start_players_5: double (nullable = true)\n",
      " |-- start_twitch_viewers_-1: double (nullable = true)\n",
      " |-- start_twitch_viewers_0: double (nullable = true)\n",
      " |-- start_twitch_viewers_1: double (nullable = true)\n",
      " |-- start_twitch_viewers_2: double (nullable = true)\n",
      " |-- start_twitch_viewers_3: double (nullable = true)\n",
      " |-- start_twitch_viewers_4: double (nullable = true)\n",
      " |-- start_twitch_viewers_5: double (nullable = true)\n",
      " |-- start_twitch_rank_-1: double (nullable = true)\n",
      " |-- start_twitch_rank_0: double (nullable = true)\n",
      " |-- start_twitch_rank_1: double (nullable = true)\n",
      " |-- start_twitch_rank_2: double (nullable = true)\n",
      " |-- start_twitch_rank_3: double (nullable = true)\n",
      " |-- start_twitch_rank_4: double (nullable = true)\n",
      " |-- start_twitch_rank_5: double (nullable = true)\n",
      " |-- hasLootBoxes: string (nullable = true)\n",
      " |-- isMajorTitle: string (nullable = true)\n",
      " |-- medianScore: double (nullable = true)\n",
      " |-- numReviews: double (nullable = true)\n",
      " |-- numTopCriticReviews: double (nullable = true)\n",
      " |-- percentRecommended: double (nullable = true)\n",
      " |-- percentile: double (nullable = true)\n",
      " |-- tier: string (nullable = true)\n",
      " |-- topCriticScore: double (nullable = true)\n",
      " |-- game_type: string (nullable = true)\n",
      " |-- number_platforms: double (nullable = true)\n",
      " |-- number_skus: double (nullable = true)\n",
      " |-- type_num: integer (nullable = true)\n",
      " |-- hasLootBoxes_num: integer (nullable = true)\n",
      " |-- isMajorTitle_num: integer (nullable = true)\n",
      " |-- tier_num: integer (nullable = true)\n",
      " |-- game_type_num: integer (nullable = true)\n",
      " |-- windows_num: integer (nullable = true)\n",
      " |-- mac_num: integer (nullable = true)\n",
      " |-- linux_num: integer (nullable = true)\n",
      " |-- developer_num: integer (nullable = true)\n",
      " |-- publisher_num: integer (nullable = true)\n",
      " |-- cluster_prediction: integer (nullable = true)\n",
      "\n"
     ]
    }
   ],
   "source": [
    "trainingData.printSchema()"
   ]
  },
  {
   "cell_type": "code",
   "execution_count": 13,
   "metadata": {},
   "outputs": [
    {
     "name": "stdout",
     "output_type": "stream",
     "text": [
      "root\n",
      " |-- type: string (nullable = true)\n",
      " |-- name: string (nullable = true)\n",
      " |-- required_age: integer (nullable = true)\n",
      " |-- appid: integer (nullable = true)\n",
      " |-- release_date: date (nullable = true)\n",
      " |-- initial_price: double (nullable = true)\n",
      " |-- metacritic_score: double (nullable = true)\n",
      " |-- windows: boolean (nullable = true)\n",
      " |-- mac: boolean (nullable = true)\n",
      " |-- linux: boolean (nullable = true)\n",
      " |-- publisher: string (nullable = true)\n",
      " |-- developer: string (nullable = true)\n",
      " |-- number_dlc: integer (nullable = true)\n",
      " |-- number_genres: integer (nullable = true)\n",
      " |-- number_categories: integer (nullable = true)\n",
      " |-- total_recommendations: double (nullable = true)\n",
      " |-- release_day_in_year: double (nullable = true)\n",
      " |-- sum_recommendations_up: double (nullable = true)\n",
      " |-- sum_recommendations_down: double (nullable = true)\n",
      " |-- date: date (nullable = true)\n",
      " |-- days_until_discount: double (nullable = true)\n",
      " |-- start_players_-1: double (nullable = true)\n",
      " |-- start_players_0: double (nullable = true)\n",
      " |-- start_players_1: double (nullable = true)\n",
      " |-- start_players_2: double (nullable = true)\n",
      " |-- start_players_3: double (nullable = true)\n",
      " |-- start_players_4: double (nullable = true)\n",
      " |-- start_players_5: double (nullable = true)\n",
      " |-- start_twitch_viewers_-1: double (nullable = true)\n",
      " |-- start_twitch_viewers_0: double (nullable = true)\n",
      " |-- start_twitch_viewers_1: double (nullable = true)\n",
      " |-- start_twitch_viewers_2: double (nullable = true)\n",
      " |-- start_twitch_viewers_3: double (nullable = true)\n",
      " |-- start_twitch_viewers_4: double (nullable = true)\n",
      " |-- start_twitch_viewers_5: double (nullable = true)\n",
      " |-- start_twitch_rank_-1: double (nullable = true)\n",
      " |-- start_twitch_rank_0: double (nullable = true)\n",
      " |-- start_twitch_rank_1: double (nullable = true)\n",
      " |-- start_twitch_rank_2: double (nullable = true)\n",
      " |-- start_twitch_rank_3: double (nullable = true)\n",
      " |-- start_twitch_rank_4: double (nullable = true)\n",
      " |-- start_twitch_rank_5: double (nullable = true)\n",
      " |-- hasLootBoxes: string (nullable = true)\n",
      " |-- isMajorTitle: string (nullable = true)\n",
      " |-- medianScore: double (nullable = true)\n",
      " |-- numReviews: double (nullable = true)\n",
      " |-- numTopCriticReviews: double (nullable = true)\n",
      " |-- percentRecommended: double (nullable = true)\n",
      " |-- percentile: double (nullable = true)\n",
      " |-- tier: string (nullable = true)\n",
      " |-- topCriticScore: double (nullable = true)\n",
      " |-- game_type: string (nullable = true)\n",
      " |-- number_platforms: double (nullable = true)\n",
      " |-- number_skus: double (nullable = true)\n",
      " |-- type_num: integer (nullable = true)\n",
      " |-- hasLootBoxes_num: integer (nullable = true)\n",
      " |-- isMajorTitle_num: integer (nullable = true)\n",
      " |-- tier_num: integer (nullable = true)\n",
      " |-- game_type_num: integer (nullable = true)\n",
      " |-- windows_num: integer (nullable = true)\n",
      " |-- mac_num: integer (nullable = true)\n",
      " |-- linux_num: integer (nullable = true)\n",
      " |-- developer_num: integer (nullable = true)\n",
      " |-- publisher_num: integer (nullable = true)\n",
      " |-- cluster_prediction: integer (nullable = true)\n",
      "\n"
     ]
    }
   ],
   "source": [
    "testData.printSchema()"
   ]
  },
  {
   "cell_type": "code",
   "execution_count": 14,
   "metadata": {},
   "outputs": [
    {
     "name": "stdout",
     "output_type": "stream",
     "text": [
      "+-------+----+--------------------+------------------+------------------+------------------+-----------------+---------+----------+------------------+------------------+------------------+---------------------+-------------------+----------------------+------------------------+-------------------+------------------+------------------+------------------+------------------+-----------------+-----------------+-----------------+-----------------------+----------------------+----------------------+----------------------+----------------------+----------------------+----------------------+--------------------+-------------------+-------------------+-------------------+-------------------+-------------------+-------------------+------------+------------+----------------+-----------------+-------------------+------------------+------------------+----+------------------+---------+------------------+-----------------+-------------------+--------------------+-------------------+------------------+-------------------+-----------+-------------------+-------------------+------------------+------------------+------------------+\n",
      "|summary|type|                name|      required_age|             appid|     initial_price| metacritic_score|publisher| developer|        number_dlc|     number_genres| number_categories|total_recommendations|release_day_in_year|sum_recommendations_up|sum_recommendations_down|days_until_discount|  start_players_-1|   start_players_0|   start_players_1|   start_players_2|  start_players_3|  start_players_4|  start_players_5|start_twitch_viewers_-1|start_twitch_viewers_0|start_twitch_viewers_1|start_twitch_viewers_2|start_twitch_viewers_3|start_twitch_viewers_4|start_twitch_viewers_5|start_twitch_rank_-1|start_twitch_rank_0|start_twitch_rank_1|start_twitch_rank_2|start_twitch_rank_3|start_twitch_rank_4|start_twitch_rank_5|hasLootBoxes|isMajorTitle|     medianScore|       numReviews|numTopCriticReviews|percentRecommended|        percentile|tier|    topCriticScore|game_type|  number_platforms|      number_skus|           type_num|    hasLootBoxes_num|   isMajorTitle_num|          tier_num|      game_type_num|windows_num|            mac_num|          linux_num|     developer_num|     publisher_num|cluster_prediction|\n",
      "+-------+----+--------------------+------------------+------------------+------------------+-----------------+---------+----------+------------------+------------------+------------------+---------------------+-------------------+----------------------+------------------------+-------------------+------------------+------------------+------------------+------------------+-----------------+-----------------+-----------------+-----------------------+----------------------+----------------------+----------------------+----------------------+----------------------+----------------------+--------------------+-------------------+-------------------+-------------------+-------------------+-------------------+-------------------+------------+------------+----------------+-----------------+-------------------+------------------+------------------+----+------------------+---------+------------------+-----------------+-------------------+--------------------+-------------------+------------------+-------------------+-----------+-------------------+-------------------+------------------+------------------+------------------+\n",
      "|  count|1083|                1083|              1083|              1083|              1083|             1083|     1083|      1083|              1083|              1083|              1083|                 1083|               1083|                  1083|                    1083|               1083|              1083|              1083|              1083|              1083|             1083|             1083|             1083|                   1083|                  1083|                  1083|                  1083|                  1083|                  1083|                  1083|                1083|               1083|               1083|               1083|               1083|               1083|               1083|        1083|        1083|            1083|             1083|               1083|              1083|              1083|1083|              1083|     1083|              1083|             1083|               1083|                1083|               1083|              1083|               1083|       1083|               1083|               1083|              1083|              1083|              1083|\n",
      "|   mean|null|                null|2.3287165281625115| 474624.0655586334| 2087.139427516159|73.44875346260388|     null|      null|3.1274238227146816| 2.443213296398892| 6.833795013850415|   11790.132963988919| 185.11265004616806|    10048.969529085873|      1770.9612188365652|  755.0349111329026|269.18101987828504| 615.7359928183489| 694.8358985724575| 667.3108130019539|535.7328675409724|518.6951028713987|474.1141056333503|     10.677853002761148|    4.4452759348791355|     4.945779913611261|     5.192744392114832|     11.86132242109834|     3.468211319446646|    2.1143075897118955|  1.2065100846855932| 1.1433386433572668| 1.0484942801177746| 0.8817937546684527|  1.325639116427289| 1.0629556653799026| 1.0840281001516316|         0.0|        null|69.1034164358264|36.17082179132041| 26.342566943674978|    49.71770377923| 54.53462603878116|null| 70.14634645687305|     null|2.9399815327793166|5.315789473684211| 0.0221606648199446|0.003693444136657433| 0.2631578947368421|1.8855032317636196|0.04801477377654663|        0.0|  0.518005540166205|0.39058171745152354|439.01477377654663|206.76454293628808| 0.631578947368421|\n",
      "| stddev|null|                null| 5.771446135532674|224161.50586190654|1225.2444570851103| 9.48760772721758|     null|      null|15.545961178917192|1.0051887646676967|3.3135696895239524|    58155.03441398775|  99.34567936269526|    42388.229622290324|       21036.16521200076|  612.0478437029707|2386.8330424624382| 5196.517390743429| 6119.046675657275| 6038.561485475325|4626.642364441493|4423.485697478969|4242.851822931294|      96.76771639571004|     33.11151724709367|    59.464425044776256|     84.72118413140842|     159.8912797971441|     43.04884797023763|    22.706031074798585|   8.381952531498937|  7.668321724261213|   7.55036728148378| 6.6933228285976245|  8.844622492278695|  8.051456009188328|   8.66958888113151|         0.0|        null|21.8716516816188|34.63094838324424|  24.86729859535588|  29.7501934871085|28.380264606817878|null|17.382138589185004|     null|1.9572838510537498|3.451807102601108|0.14727388459423574| 0.06068940215301788|0.44055082309131205| 1.134162177739447| 0.3181264930583437|        0.0|0.49990654576423443|0.48810616470224805| 281.7177796307716|182.18521318276083| 1.838186038265827|\n",
      "|    min| dlc|     10 Second Ninja|                 0|              2870|              99.0|             32.0|         |10tons Ltd|                 0|                 0|                 1|                102.0|                4.0|                  55.0|                     3.0| -298.9846990856482|               0.0|               0.0|               0.0|               0.0|              0.0|              0.0|              0.0|                    0.0|                   0.0|                   0.0|                   0.0|                   0.0|                   0.0|                   0.0|                 0.0|                0.0|                0.0|                0.0|                0.0|                0.0|                0.0|           0|       false|             0.0|              1.0|                0.0|               0.0|               0.0|    |               0.0|     BASE|               0.0|              0.0|                  0|                   0|                  0|                 0|                  0|          0|                  0|                  0|                 1|                 0|                 0|\n",
      "|    25%|null|                null|                 0|            304390|            1299.0|             68.0|     null|      null|                 0|                 2|                 5|                435.0|              102.0|                 366.0|                    75.0| 218.00048465277777|               0.0|               0.0|               0.0|               0.0|              0.0|              0.0|              0.0|                    0.0|                   0.0|                   0.0|                   0.0|                   0.0|                   0.0|                   0.0|                 0.0|                0.0|                0.0|                0.0|                0.0|                0.0|                0.0|         0.0|        null|            70.0|             12.0|                8.0|              25.0|              31.0|null| 66.63636363636364|     null|               1.0|              3.0|                  0|                   0|                  0|                 1|                  0|          0|                  0|                  0|               195|                41|                 0|\n",
      "|    50%|null|                null|                 0|            416790|            1999.0|             75.0|     null|      null|                 1|                 2|                 6|               1513.0|              194.0|                1181.0|                   232.0|  639.1160045486112|               0.0|               0.0|               0.0|               0.0|              0.0|              0.0|              0.0|                    0.0|                   0.0|                   0.0|                   0.0|                   0.0|                   0.0|                   0.0|                 0.0|                0.0|                0.0|                0.0|                0.0|                0.0|                0.0|         0.0|        null|            75.0|             24.0|               18.0|              52.0|              60.0|null| 74.35714285714286|     null|               3.0|              5.0|                  0|                   0|                  0|                 2|                  0|          0|                  1|                  0|               416|               148|                 0|\n",
      "|    75%|null|                null|                 0|            603960|            2499.0|             80.0|     null|      null|                 2|                 3|                 9|               5478.0|              271.0|                4730.0|                   745.0| 1196.9952560069444|               0.0|               0.0|               0.0|               0.0|              0.0|              0.0|              0.0|                    0.0|                   0.0|                   0.0|                   0.0|                   0.0|                   0.0|                   0.0|                 0.0|                0.0|                0.0|                0.0|                0.0|                0.0|                0.0|         0.0|        null|            80.0|             49.0|               36.0|              76.0|              76.0|null|  79.8936170212766|     null|               5.0|              7.0|                  0|                   0|                  1|                 3|                  0|          0|                  1|                  1|               676|               345|                 0|\n",
      "|    max|game|Zwei: The Ilvard ...|                18|           1172380|           12999.0|             97.0|  tobyfox|   tobyfox|               460|                 6|                19|            1459578.0|              355.0|              780670.0|                680224.0| 3409.0369747569443|44566.333333333336|104171.72413793103|128316.31034482758|134003.67901234567|103222.8735632184|95258.90361445783|90834.40229885057|                 1926.0|     494.8181818181818|                1513.0|                2476.0|               4222.25|                1189.0|     523.4285714285714|                98.0|               95.0|               94.0|               85.0|               89.0|               97.0|               98.0|        true|        true|            95.0|            202.0|              132.0|             100.0|             100.0|Weak| 93.30909090909091|   REMAKE|               8.0|             31.0|                  1|                   1|                  1|                 4|                  5|          0|                  1|                  1|               969|               621|                 9|\n",
      "+-------+----+--------------------+------------------+------------------+------------------+-----------------+---------+----------+------------------+------------------+------------------+---------------------+-------------------+----------------------+------------------------+-------------------+------------------+------------------+------------------+------------------+-----------------+-----------------+-----------------+-----------------------+----------------------+----------------------+----------------------+----------------------+----------------------+----------------------+--------------------+-------------------+-------------------+-------------------+-------------------+-------------------+-------------------+------------+------------+----------------+-----------------+-------------------+------------------+------------------+----+------------------+---------+------------------+-----------------+-------------------+--------------------+-------------------+------------------+-------------------+-----------+-------------------+-------------------+------------------+------------------+------------------+\n",
      "\n"
     ]
    }
   ],
   "source": [
    "trainingData.summary().show()"
   ]
  },
  {
   "cell_type": "code",
   "execution_count": 15,
   "metadata": {},
   "outputs": [
    {
     "data": {
      "text/plain": [
       "Row(type='game', name='The Wardrobe', required_age=0, appid=497730, release_date=datetime.date(2017, 2, 15), initial_price=1499.0, metacritic_score=72.0, windows=True, mac=True, linux=False, publisher='Gamera Interactive', developer='CINIC Games', number_dlc=1, number_genres=2, number_categories=4, total_recommendations=284.0, release_day_in_year=46.0, sum_recommendations_up=238.0, sum_recommendations_down=55.0, date=datetime.date(2018, 10, 17), days_until_discount=609.1465750462963, start_players_-1=0.0, start_players_0=0.0, start_players_1=0.0, start_players_2=0.0, start_players_3=0.0, start_players_4=0.0, start_players_5=0.0, start_twitch_viewers_-1=0.0, start_twitch_viewers_0=0.0, start_twitch_viewers_1=0.0, start_twitch_viewers_2=0.0, start_twitch_viewers_3=0.0, start_twitch_viewers_4=0.0, start_twitch_viewers_5=0.0, start_twitch_rank_-1=0.0, start_twitch_rank_0=0.0, start_twitch_rank_1=0.0, start_twitch_rank_2=0.0, start_twitch_rank_3=0.0, start_twitch_rank_4=0.0, start_twitch_rank_5=0.0, hasLootBoxes='false', isMajorTitle='false', medianScore=70.0, numReviews=11.0, numTopCriticReviews=7.0, percentRecommended=18.181818181818183, percentile=21.0, tier='Weak', topCriticScore=62.857142857142854, game_type='BASE', number_platforms=1.0, number_skus=2.0, type_num=0, hasLootBoxes_num=0, isMajorTitle_num=0, tier_num=0, game_type_num=0, windows_num=0, mac_num=1, linux_num=0, developer_num=603, publisher_num=400, cluster_prediction=0)"
      ]
     },
     "execution_count": 15,
     "metadata": {},
     "output_type": "execute_result"
    }
   ],
   "source": [
    "trainingData.head()"
   ]
  },
  {
   "cell_type": "code",
   "execution_count": 16,
   "metadata": {},
   "outputs": [
    {
     "name": "stdout",
     "output_type": "stream",
     "text": [
      "+-------+----+--------------------+------------------+------------------+------------------+-----------------+---------+----------+-----------------+------------------+------------------+---------------------+-------------------+----------------------+------------------------+-------------------+------------------+-----------------+-----------------+------------------+------------------+------------------+------------------+-----------------------+----------------------+----------------------+----------------------+----------------------+----------------------+----------------------+--------------------+-------------------+-------------------+-------------------+-------------------+-------------------+-------------------+------------+------------+-----------------+------------------+-------------------+------------------+------------------+----+-----------------+---------+------------------+------------------+--------------------+--------------------+-------------------+------------------+-------------------+-----------+------------------+-------------------+------------------+------------------+------------------+\n",
      "|summary|type|                name|      required_age|             appid|     initial_price| metacritic_score|publisher| developer|       number_dlc|     number_genres| number_categories|total_recommendations|release_day_in_year|sum_recommendations_up|sum_recommendations_down|days_until_discount|  start_players_-1|  start_players_0|  start_players_1|   start_players_2|   start_players_3|   start_players_4|   start_players_5|start_twitch_viewers_-1|start_twitch_viewers_0|start_twitch_viewers_1|start_twitch_viewers_2|start_twitch_viewers_3|start_twitch_viewers_4|start_twitch_viewers_5|start_twitch_rank_-1|start_twitch_rank_0|start_twitch_rank_1|start_twitch_rank_2|start_twitch_rank_3|start_twitch_rank_4|start_twitch_rank_5|hasLootBoxes|isMajorTitle|      medianScore|        numReviews|numTopCriticReviews|percentRecommended|        percentile|tier|   topCriticScore|game_type|  number_platforms|       number_skus|            type_num|    hasLootBoxes_num|   isMajorTitle_num|          tier_num|      game_type_num|windows_num|           mac_num|          linux_num|     developer_num|     publisher_num|cluster_prediction|\n",
      "+-------+----+--------------------+------------------+------------------+------------------+-----------------+---------+----------+-----------------+------------------+------------------+---------------------+-------------------+----------------------+------------------------+-------------------+------------------+-----------------+-----------------+------------------+------------------+------------------+------------------+-----------------------+----------------------+----------------------+----------------------+----------------------+----------------------+----------------------+--------------------+-------------------+-------------------+-------------------+-------------------+-------------------+-------------------+------------+------------+-----------------+------------------+-------------------+------------------+------------------+----+-----------------+---------+------------------+------------------+--------------------+--------------------+-------------------+------------------+-------------------+-----------+------------------+-------------------+------------------+------------------+------------------+\n",
      "|  count| 271|                 271|               271|               271|               271|              271|      271|       271|              271|               271|               271|                  271|                271|                   271|                     271|                271|               271|              271|              271|               271|               271|               271|               271|                    271|                   271|                   271|                   271|                   271|                   271|                   271|                 271|                271|                271|                271|                271|                271|                271|         271|         271|              271|               271|                271|               271|               271| 271|              271|      271|               271|               271|                 271|                 271|                271|               271|                271|        271|               271|                271|               271|               271|               271|\n",
      "|   mean|null|                null|1.4428044280442804|479924.86346863466|1909.3321033210332|73.11808118081181|     null|      null|2.121771217712177|2.5424354243542435| 6.590405904059041|    8966.649446494464|  182.8560885608856|     7971.280442804428|      1021.1660516605166|  757.0459855954883| 272.5903948941587|520.4535932002071|567.0984292105416| 514.5393021498161|  428.676331218773| 406.1021328433012| 347.7923397073225|     6.0829936215863585|      4.26557787046111|     2.588008688588924|    1.5013695334699826|     2.334199333782261|    11.227358648859433|    2.9494367533049712|  0.7782504883872368|   1.86582085981329| 1.1906822751232864| 1.2130922048747923| 1.0648191808375669| 1.0969097655558635| 1.2462534195848414|         0.0|        null|66.23173431734317|31.029520295202953| 22.730627306273064| 45.92257125807494|52.549815498154985|null|69.11299537089626|     null|2.7047970479704797|  5.11070110701107|0.033210332103321034|0.003690036900369...|0.22509225092250923|2.0701107011070112|0.05166051660516605|        0.0|0.5129151291512916| 0.3874538745387454|406.97416974169744|188.58671586715866|0.7527675276752768|\n",
      "| stddev|null|                null|  4.74180129417733|223388.67154353418|1206.3582633982592|9.904772774370132|     null|      null|4.443464426596411|  1.05279520821676|3.5021342991733615|   22146.041730404224| 103.07698287191624|    20370.847430025016|      2624.0303165082437|  618.7458422371124| 2489.001800255887|4586.479035144002|4955.141722013669| 4615.742097242501|3853.3301058107727|3660.8006617877168|3114.4846926072564|     49.484531521070075|    24.759350927502915|    18.303168520984194|    10.783817096889392|     18.73267289016524|     165.0346960724174|    27.670985031616198|  6.7824458041719575| 10.119091300306392| 7.9276470759574735|  8.254480890916344|  7.299933984867664|  7.972822779670699|   8.67108343956861|         0.0|        null|24.88543282687691| 31.30576587749353| 23.124889252456164|31.308296111317627|28.489704280069898|null|18.87427089676044|     null|1.9440162358695947|3.3800498389869644|  0.1795169135853851|  0.0607456739230787| 0.4184157629888089|1.1347505790211194|0.30596993780875775|        0.0|0.5007579331224578|0.48807005862255187| 278.7343273733119| 174.2795935035629| 2.013321766297018|\n",
      "|    min| dlc|.hack//G.U. Last ...|                 0|             35720|             199.0|             36.0|         |10tons Ltd|                0|                 1|                 1|                102.0|                3.0|                  56.0|                     4.0| -557.9553863657408|               0.0|              0.0|              0.0|               0.0|               0.0|               0.0|               0.0|                    0.0|                   0.0|                   0.0|                   0.0|                   0.0|                   0.0|                   0.0|                 0.0|                0.0|                0.0|                0.0|                0.0|                0.0|                0.0|           0|       false|              0.0|               1.0|                1.0|               0.0|               0.0|    |              0.0|     BASE|               1.0|               0.0|                   0|                   0|                  0|                 0|                  0|          0|                 0|                  0|                 0|                 0|                 0|\n",
      "|    25%|null|                null|                 0|            304730|             999.0|             68.0|     null|      null|                0|                 2|                 4|                370.0|               90.0|                 302.0|                    64.0|  224.0011769212963|               0.0|              0.0|              0.0|               0.0|               0.0|               0.0|               0.0|                    0.0|                   0.0|                   0.0|                   0.0|                   0.0|                   0.0|                   0.0|                 0.0|                0.0|                0.0|                0.0|                0.0|                0.0|                0.0|         0.0|        null|             68.5|               9.0|                7.0|              20.0|              31.0|null| 66.7872340425532|     null|               1.0|               3.0|                   0|                   0|                  0|                 1|                  0|          0|                 0|                  0|               185|                35|                 0|\n",
      "|    50%|null|                null|                 0|            427290|            1999.0|             74.0|     null|      null|                1|                 2|                 6|               1374.0|              183.0|                1067.0|                   228.0|  639.0424138078704|               0.0|              0.0|              0.0|               0.0|               0.0|               0.0|               0.0|                    0.0|                   0.0|                   0.0|                   0.0|                   0.0|                   0.0|                   0.0|                 0.0|                0.0|                0.0|                0.0|                0.0|                0.0|                0.0|         0.0|        null|             73.0|              20.0|               13.0| 45.45454545454545|              52.0|null|72.01869158878505|     null|               1.0|               4.0|                   0|                   0|                  0|                 2|                  0|          0|                 1|                  0|               383|               128|                 0|\n",
      "|    75%|null|                null|                 0|            585450|            2499.0|             80.0|     null|      null|                2|                 3|                 8|               6566.0|              281.0|                5794.0|                   703.0| 1164.1271883217591|               0.0|              0.0|              0.0|               0.0|               0.0|               0.0|               0.0|                    0.0|                   0.0|                   0.0|                   0.0|                   0.0|                   0.0|                   0.0|                 0.0|                0.0|                0.0|                0.0|                0.0|                0.0|                0.0|         0.0|        null|             80.0|              41.0|               31.0| 71.42857142857143|              76.0|null|79.66666666666667|     null|               5.0|               6.0|                   0|                   0|                  0|                 3|                  0|          0|                 1|                  1|               632|               304|                 0|\n",
      "|    max|game|             killer7|                18|           1092430|           12999.0|             94.0|worm club| inkle Ltd|               44|                 6|                21|             176311.0|              357.0|              166010.0|                 30099.0| 3136.9975309837964|34131.393939393936|54092.31034482759|61483.44827586207|56360.348837209305| 48694.19540229885| 48468.93103448276| 40479.96103896104|                 559.18|    241.03703703703704|    176.77720207253887|    101.92857142857143|    225.69230769230768|                2712.5|     414.8888888888889|                93.0|  83.78947368421052|               81.0|               71.0|  64.08333333333333|               79.0|  78.95138888888889|        true|        true|             95.0|             190.0|              126.0|             100.0|             100.0|Weak|             93.4|EXPANSION|               7.0|              26.0|                   1|                   1|                  1|                 4|                  2|          0|                 1|                  1|               966|               619|                 9|\n",
      "+-------+----+--------------------+------------------+------------------+------------------+-----------------+---------+----------+-----------------+------------------+------------------+---------------------+-------------------+----------------------+------------------------+-------------------+------------------+-----------------+-----------------+------------------+------------------+------------------+------------------+-----------------------+----------------------+----------------------+----------------------+----------------------+----------------------+----------------------+--------------------+-------------------+-------------------+-------------------+-------------------+-------------------+-------------------+------------+------------+-----------------+------------------+-------------------+------------------+------------------+----+-----------------+---------+------------------+------------------+--------------------+--------------------+-------------------+------------------+-------------------+-----------+------------------+-------------------+------------------+------------------+------------------+\n",
      "\n"
     ]
    }
   ],
   "source": [
    "testData.summary().show()"
   ]
  },
  {
   "cell_type": "code",
   "execution_count": 17,
   "metadata": {},
   "outputs": [
    {
     "data": {
      "text/plain": [
       "Row(type='game', name=\"OVERKILL's The Walking Dead\", required_age=17, appid=717690, release_date=datetime.date(2018, 11, 6), initial_price=2999.0, metacritic_score=51.0, windows=True, mac=False, linux=False, publisher='Starbreeze Publishing AB', developer='OVERKILL - a Starbreeze Studio.', number_dlc=4, number_genres=1, number_categories=8, total_recommendations=5299.0, release_day_in_year=310.0, sum_recommendations_up=2756.0, sum_recommendations_down=2608.0, date=datetime.date(2019, 2, 7), days_until_discount=93.5656640625, start_players_-1=0.0, start_players_0=0.0, start_players_1=0.0, start_players_2=0.0, start_players_3=0.0, start_players_4=0.0, start_players_5=0.0, start_twitch_viewers_-1=0.0, start_twitch_viewers_0=0.0, start_twitch_viewers_1=0.0, start_twitch_viewers_2=0.0, start_twitch_viewers_3=0.0, start_twitch_viewers_4=0.0, start_twitch_viewers_5=0.0, start_twitch_rank_-1=0.0, start_twitch_rank_0=0.0, start_twitch_rank_1=0.0, start_twitch_rank_2=0.0, start_twitch_rank_3=0.0, start_twitch_rank_4=0.0, start_twitch_rank_5=0.0, hasLootBoxes='false', isMajorTitle='false', medianScore=55.0, numReviews=39.0, numTopCriticReviews=28.0, percentRecommended=10.526315789473683, percentile=9.0, tier='Weak', topCriticScore=53.17857142857143, game_type='BASE', number_platforms=5.0, number_skus=10.0, type_num=0, hasLootBoxes_num=0, isMajorTitle_num=0, tier_num=0, game_type_num=0, windows_num=0, mac_num=0, linux_num=0, developer_num=0, publisher_num=0, cluster_prediction=0)"
      ]
     },
     "execution_count": 17,
     "metadata": {},
     "output_type": "execute_result"
    }
   ],
   "source": [
    "testData.head()"
   ]
  },
  {
   "cell_type": "code",
   "execution_count": 18,
   "metadata": {},
   "outputs": [],
   "source": [
    "# TODO: look into partitions\n",
    "# https://luminousmen.com/post/spark-partitions\n",
    "# https://www.dezyre.com/article/how-data-partitioning-in-spark-helps-achieve-more-parallelism/297\n",
    "\n"
   ]
  },
  {
   "cell_type": "code",
   "execution_count": 19,
   "metadata": {},
   "outputs": [
    {
     "data": {
      "text/plain": [
       "release_day_in_year         0.839136\n",
       "publisher_num               0.180253\n",
       "initial_price               0.068829\n",
       "start_players_0             0.044875\n",
       "mac_num                     0.038576\n",
       "start_twitch_viewers_0      0.032859\n",
       "number_dlc                  0.032422\n",
       "start_twitch_rank_-1        0.030763\n",
       "sum_recommendations_down    0.027493\n",
       "start_players_4             0.026944\n",
       "start_twitch_viewers_-1     0.025731\n",
       "start_twitch_viewers_1      0.025653\n",
       "isMajorTitle_num            0.025499\n",
       "linux_num                   0.024325\n",
       "tier_num                    0.022698\n",
       "start_players_-1            0.021744\n",
       "start_twitch_rank_2         0.020765\n",
       "start_twitch_viewers_4      0.019995\n",
       "start_twitch_rank_4         0.018781\n",
       "percentile                  0.016751\n",
       "number_skus                 0.014300\n",
       "metacritic_score            0.004822\n",
       "topCriticScore              0.000000\n",
       "game_type_num               0.000000\n",
       "type_num                    0.000000\n",
       "Name: MI Scores, dtype: float64"
      ]
     },
     "execution_count": 19,
     "metadata": {},
     "output_type": "execute_result"
    }
   ],
   "source": [
    "# calculate mutual information\n",
    "# https://www.kaggle.com/ryanholbrook/mutual-information\n",
    "\n",
    "def make_mi_scores(X, y, discrete_features):\n",
    "    mi_scores = mutual_info_regression(X, y, discrete_features=discrete_features)\n",
    "    mi_scores = pd.Series(mi_scores, name=\"MI Scores\", index=X.columns)\n",
    "    mi_scores = mi_scores.sort_values(ascending=False)\n",
    "    return mi_scores\n",
    "\n",
    "integer_df = df.select_dtypes(include=['int', 'float'])\n",
    "\n",
    "X = integer_df.copy()\n",
    "X.pop(\"appid\")\n",
    "y = X.pop(\"days_until_discount\")\n",
    "\n",
    "discrete_features = X.dtypes == int\n",
    "\n",
    "mi_scores = make_mi_scores(X, y, discrete_features)\n",
    "mi_scores[::2]"
   ]
  },
  {
   "cell_type": "code",
   "execution_count": 20,
   "metadata": {},
   "outputs": [
    {
     "data": {
      "image/png": "[encoded data removed]",
      "text/plain": [
       "<Figure size 1000x1400 with 1 Axes>"
      ]
     },
     "metadata": {
      "needs_background": "light"
     },
     "output_type": "display_data"
    }
   ],
   "source": [
    "def plot_mi_scores(scores):\n",
    "    scores = scores.sort_values(ascending=True)\n",
    "    width = np.arange(len(scores))\n",
    "    ticks = list(scores.index)\n",
    "    plt.barh(width, scores)\n",
    "    plt.yticks(width, ticks)\n",
    "    plt.title(\"Mutual Information Scores\")\n",
    "\n",
    "\n",
    "plt.figure(dpi=100, figsize=(10, 14))\n",
    "plot_mi_scores(mi_scores)"
   ]
  },
  {
   "cell_type": "code",
   "execution_count": 21,
   "metadata": {},
   "outputs": [
    {
     "data": {
      "text/plain": [
       "release_day_in_year         0.839136\n",
       "developer_num               0.262339\n",
       "publisher_num               0.180253\n",
       "number_platforms            0.074137\n",
       "initial_price               0.068829\n",
       "numTopCriticReviews         0.050558\n",
       "start_players_0             0.044875\n",
       "start_players_1             0.039081\n",
       "mac_num                     0.038576\n",
       "start_players_2             0.033844\n",
       "start_twitch_viewers_0      0.032859\n",
       "numReviews                  0.032579\n",
       "number_dlc                  0.032422\n",
       "start_twitch_rank_0         0.031763\n",
       "start_twitch_rank_-1        0.030763\n",
       "start_players_3             0.028828\n",
       "sum_recommendations_down    0.027493\n",
       "start_twitch_viewers_3      0.027012\n",
       "start_players_4             0.026944\n",
       "start_players_5             0.025763\n",
       "Name: MI Scores, dtype: float64"
      ]
     },
     "execution_count": 21,
     "metadata": {},
     "output_type": "execute_result"
    }
   ],
   "source": [
    "mi_scores.head(n=20)"
   ]
  },
  {
   "cell_type": "code",
   "execution_count": 22,
   "metadata": {},
   "outputs": [
    {
     "name": "stdout",
     "output_type": "stream",
     "text": [
      "Random Forest Training took: 0.24429747660954793 minutes\n"
     ]
    }
   ],
   "source": [
    "starttime = time.time()\n",
    "rf_model = crossval.fit(trainingData)\n",
    "endtime = time.time()\n",
    "\n",
    "print(\"Random Forest Training took: \" + str((endtime-starttime)/60) + \" minutes\")\n",
    "\n",
    "shutil.rmtree('/work/steam-randomforest-model/') # delete directory\n",
    "rf_model.bestModel.write().overwrite().save(\"/work/steam-randomforest-model\")"
   ]
  },
  {
   "cell_type": "code",
   "execution_count": 23,
   "metadata": {},
   "outputs": [
    {
     "name": "stdout",
     "output_type": "stream",
     "text": [
      "Gradient Boosted Tree Training took: 4.764705574512481 minutes\n"
     ]
    }
   ],
   "source": [
    "starttime = time.time()\n",
    "gbt_model = gbt_crossval.fit(trainingData)\n",
    "endtime = time.time()\n",
    "\n",
    "print(\"Gradient Boosted Tree Training took: \" + str((endtime-starttime)/60) + \" minutes\")\n",
    "\n",
    "shutil.rmtree('/work/steam-gbt-model/') # delete directory\n",
    "gbt_model.bestModel.write().overwrite().save(\"/work/steam-gbt-model\")"
   ]
  },
  {
   "cell_type": "code",
   "execution_count": 24,
   "metadata": {},
   "outputs": [
    {
     "name": "stdout",
     "output_type": "stream",
     "text": [
      "Linear Regression Training took: 0.16829822858174642 minutes\n"
     ]
    }
   ],
   "source": [
    "starttime = time.time()\n",
    "linear_model = linear_crossval.fit(trainingData)\n",
    "endtime = time.time()\n",
    "\n",
    "print(\"Linear Regression Training took: \" + str((endtime-starttime)/60) + \" minutes\")\n",
    "\n",
    "shutil.rmtree('/work/steam-linear-model/') # delete directory\n",
    "linear_model.bestModel.write().overwrite().save(\"/work/steam-linear-model\")"
   ]
  },
  {
   "cell_type": "code",
   "execution_count": 26,
   "metadata": {},
   "outputs": [],
   "source": [
    "# persist and serialize objects to disk for next step\n",
    "testData.write.mode(\"overwrite\").save(\"/work/testData\")\n",
    "trainingData.write.mode(\"overwrite\").save(\"/work/trainingData\")\n",
    "\n",
    "#pickle.dump(testData, open(\"/work/testData.p\", \"wb\"))\n",
    "testData.write.parquet(\"/work/testData.parquet\")\n",
    "#pickle.dump(trainingData, open(\"/work/trainingData.p\", \"wb\"))\n",
    "trainingData.write.parquet(\"/work/trainingData.parquet\")"
   ]
  },
  {
   "cell_type": "code",
   "execution_count": 28,
   "metadata": {},
   "outputs": [
    {
     "ename": "AttributeError",
     "evalue": "'DataFrame' object has no attribute 'isEmpty'",
     "output_type": "error",
     "traceback": [
      "\u001b[0;31m---------------------------------------------------------------------------\u001b[0m",
      "\u001b[0;31mAttributeError\u001b[0m                            Traceback (most recent call last)",
      "\u001b[0;32m<ipython-input-28-a8b628db2352>\u001b[0m in \u001b[0;36m<module>\u001b[0;34m\u001b[0m\n\u001b[0;32m----> 1\u001b[0;31m \u001b[0mtestData\u001b[0m\u001b[0;34m.\u001b[0m\u001b[0misEmpty\u001b[0m\u001b[0;34m\u001b[0m\u001b[0;34m\u001b[0m\u001b[0m\n\u001b[0m",
      "\u001b[0;32m/spark/python/pyspark/sql/dataframe.py\u001b[0m in \u001b[0;36m__getattr__\u001b[0;34m(self, name)\u001b[0m\n\u001b[1;32m   1641\u001b[0m         \"\"\"\n\u001b[1;32m   1642\u001b[0m         \u001b[0;32mif\u001b[0m \u001b[0mname\u001b[0m \u001b[0;32mnot\u001b[0m \u001b[0;32min\u001b[0m \u001b[0mself\u001b[0m\u001b[0;34m.\u001b[0m\u001b[0mcolumns\u001b[0m\u001b[0;34m:\u001b[0m\u001b[0;34m\u001b[0m\u001b[0;34m\u001b[0m\u001b[0m\n\u001b[0;32m-> 1643\u001b[0;31m             raise AttributeError(\n\u001b[0m\u001b[1;32m   1644\u001b[0m                 \"'%s' object has no attribute '%s'\" % (self.__class__.__name__, name))\n\u001b[1;32m   1645\u001b[0m         \u001b[0mjc\u001b[0m \u001b[0;34m=\u001b[0m \u001b[0mself\u001b[0m\u001b[0;34m.\u001b[0m\u001b[0m_jdf\u001b[0m\u001b[0;34m.\u001b[0m\u001b[0mapply\u001b[0m\u001b[0;34m(\u001b[0m\u001b[0mname\u001b[0m\u001b[0;34m)\u001b[0m\u001b[0;34m\u001b[0m\u001b[0;34m\u001b[0m\u001b[0m\n",
      "\u001b[0;31mAttributeError\u001b[0m: 'DataFrame' object has no attribute 'isEmpty'"
     ]
    }
   ],
   "source": [
    "testData.isEmpty"
   ]
  },
  {
   "cell_type": "code",
   "execution_count": 27,
   "metadata": {},
   "outputs": [],
   "source": [
    "sc.stop()"
   ]
  }
 ],
 "metadata": {
  "kernelspec": {
   "display_name": "Python 3",
   "language": "python",
   "name": "python3"
  },
  "language_info": {
   "codemirror_mode": {
    "name": "ipython",
    "version": 3
   },
   "file_extension": ".py",
   "mimetype": "text/x-python",
   "name": "python",
   "nbconvert_exporter": "python",
   "pygments_lexer": "ipython3",
   "version": "3.8.10"
  }
 },
 "nbformat": 4,
 "nbformat_minor": 4
}
