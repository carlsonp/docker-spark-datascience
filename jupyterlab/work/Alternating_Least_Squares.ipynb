{
 "cells": [
  {
   "cell_type": "code",
   "execution_count": 1,
   "metadata": {},
   "outputs": [],
   "source": [
    "# adapted from: https://github.com/apache/spark/blob/master/examples/src/main/python/als.py\n",
    "\n",
    "import sys, pyspark\n",
    "\n",
    "import numpy as np\n",
    "from numpy.random import rand\n",
    "from numpy import matrix\n",
    "from pyspark.sql import SparkSession\n",
    "from pyspark import SparkContext, SparkConf\n",
    "\n",
    "conf = SparkConf().setAppName('Alternating Least Squares').setMaster('spark://sparkmaster:7077')\n",
    "sc = SparkContext(conf=conf)\n",
    "\n",
    "LAMBDA = 0.01   # regularization\n",
    "np.random.seed(42)"
   ]
  },
  {
   "cell_type": "code",
   "execution_count": 2,
   "metadata": {},
   "outputs": [
    {
     "data": {
      "text/plain": [
       "[('spark.driver.host', 'jupyterlab'),\n",
       " ('spark.rdd.compress', 'True'),\n",
       " ('spark.driver.port', '43609'),\n",
       " ('spark.serializer.objectStreamReset', '100'),\n",
       " ('spark.submit.pyFiles', ''),\n",
       " ('spark.executor.id', 'driver'),\n",
       " ('spark.submit.deployMode', 'client'),\n",
       " ('spark.master', 'spark://sparkmaster:7077'),\n",
       " ('spark.app.startTime', '1625020343548'),\n",
       " ('spark.app.name', 'Alternating Least Squares'),\n",
       " ('spark.app.id', 'app-20210629203224-0003'),\n",
       " ('spark.ui.showConsoleProgress', 'true')]"
      ]
     },
     "execution_count": 2,
     "metadata": {},
     "output_type": "execute_result"
    }
   ],
   "source": [
    "sc._conf.getAll()"
   ]
  },
  {
   "cell_type": "code",
   "execution_count": 3,
   "metadata": {},
   "outputs": [],
   "source": [
    "def rmse(R, ms, us):\n",
    "    diff = R - ms * us.T\n",
    "    return np.sqrt(np.sum(np.power(diff, 2)) / (M * U))\n",
    "\n",
    "\n",
    "def update(i, mat, ratings):\n",
    "    uu = mat.shape[0]\n",
    "    ff = mat.shape[1]\n",
    "\n",
    "    XtX = mat.T * mat\n",
    "    Xty = mat.T * ratings[i, :].T\n",
    "\n",
    "    for j in range(ff):\n",
    "        XtX[j, j] += LAMBDA * uu\n",
    "\n",
    "    return np.linalg.solve(XtX, Xty)"
   ]
  },
  {
   "cell_type": "code",
   "execution_count": 4,
   "metadata": {},
   "outputs": [
    {
     "name": "stdout",
     "output_type": "stream",
     "text": [
      "Iteration 0:\n",
      "\n",
      "RMSE: 0.3770\n",
      "\n",
      "Iteration 1:\n",
      "\n",
      "RMSE: 0.1220\n",
      "\n",
      "Iteration 2:\n",
      "\n",
      "RMSE: 0.0922\n",
      "\n",
      "Iteration 3:\n",
      "\n",
      "RMSE: 0.0812\n",
      "\n"
     ]
    }
   ],
   "source": [
    "\"\"\"\n",
    "Usage: als [M] [U] [F] [iterations] [partitions]\"\n",
    "\"\"\"\n",
    "\n",
    "M = 100\n",
    "U = 500\n",
    "F = 50\n",
    "ITERATIONS = 4\n",
    "partitions = 20\n",
    "\n",
    "R = matrix(rand(M, F)) * matrix(rand(U, F).T)\n",
    "ms = matrix(rand(M, F))\n",
    "us = matrix(rand(U, F))\n",
    "\n",
    "Rb = sc.broadcast(R)\n",
    "msb = sc.broadcast(ms)\n",
    "usb = sc.broadcast(us)\n",
    "\n",
    "for i in range(ITERATIONS):\n",
    "    ms = sc.parallelize(range(M), partitions) \\\n",
    "           .map(lambda x: update(x, usb.value, Rb.value)) \\\n",
    "           .collect()\n",
    "    # collect() returns a list, so array ends up being\n",
    "    # a 3-d array, we take the first 2 dims for the matrix\n",
    "    ms = matrix(np.array(ms)[:, :, 0])\n",
    "    msb = sc.broadcast(ms)\n",
    "\n",
    "    us = sc.parallelize(range(U), partitions) \\\n",
    "           .map(lambda x: update(x, msb.value, Rb.value.T)) \\\n",
    "           .collect()\n",
    "    us = matrix(np.array(us)[:, :, 0])\n",
    "    usb = sc.broadcast(us)\n",
    "\n",
    "    error = rmse(R, ms, us)\n",
    "    print(\"Iteration %d:\" % i)\n",
    "    print(\"\\nRMSE: %5.4f\\n\" % error)"
   ]
  },
  {
   "cell_type": "code",
   "execution_count": 5,
   "metadata": {},
   "outputs": [],
   "source": [
    "sc.stop()"
   ]
  }
 ],
 "metadata": {
  "kernelspec": {
   "display_name": "Python 3",
   "language": "python",
   "name": "python3"
  },
  "language_info": {
   "codemirror_mode": {
    "name": "ipython",
    "version": 3
   },
   "file_extension": ".py",
   "mimetype": "text/x-python",
   "name": "python",
   "nbconvert_exporter": "python",
   "pygments_lexer": "ipython3",
   "version": "3.8.5"
  }
 },
 "nbformat": 4,
 "nbformat_minor": 4
}
