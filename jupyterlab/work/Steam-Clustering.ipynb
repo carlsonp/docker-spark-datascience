{
 "cells": [
  {
   "cell_type": "code",
   "execution_count": 1,
   "metadata": {},
   "outputs": [],
   "source": [
    "import sys, re\n",
    "from pyspark import SparkContext, SparkConf\n",
    "from pyspark.ml.feature import Tokenizer, CountVectorizer, StopWordsRemover\n",
    "from pyspark.sql import *\n",
    "from pyspark.sql.functions import lower, regexp_replace\n",
    "from pyspark.ml.clustering import LDA\n",
    "from IPython.core.display import display, HTML\n",
    "from pymongo import MongoClient\n",
    "import pandas as pd\n",
    "\n",
    "# Adapted from:\n",
    "# https://github.com/apache/spark/blob/master/examples/src/main/python/ml/lda_example.py\n",
    "\n",
    "conf = SparkConf().setAppName('Steam Clustering').setMaster('spark://sparkmaster:7077')\n",
    "SparkContext.setSystemProperty('spark.executor.memory', '2g') # bump the executor memory to prevent OOM issues\n",
    "sc = SparkContext(conf=conf)\n",
    "sqlContext = SQLContext(sc)"
   ]
  },
  {
   "cell_type": "code",
   "execution_count": 2,
   "metadata": {},
   "outputs": [
    {
     "data": {
      "text/plain": [
       "[('spark.executor.memory', '2g'),\n",
       " ('spark.driver.host', 'jupyterlab'),\n",
       " ('spark.app.name', 'Steam Clustering'),\n",
       " ('spark.rdd.compress', 'True'),\n",
       " ('spark.app.id', 'app-20210629203431-0005'),\n",
       " ('spark.app.startTime', '1625020470548'),\n",
       " ('spark.serializer.objectStreamReset', '100'),\n",
       " ('spark.driver.port', '40251'),\n",
       " ('spark.submit.pyFiles', ''),\n",
       " ('spark.executor.id', 'driver'),\n",
       " ('spark.submit.deployMode', 'client'),\n",
       " ('spark.master', 'spark://sparkmaster:7077'),\n",
       " ('spark.ui.showConsoleProgress', 'true')]"
      ]
     },
     "execution_count": 2,
     "metadata": {},
     "output_type": "execute_result"
    }
   ],
   "source": [
    "sc._conf.getAll()"
   ]
  },
  {
   "cell_type": "code",
   "execution_count": 3,
   "metadata": {},
   "outputs": [],
   "source": [
    "client = MongoClient(host=\"192.168.1.171\", port=27017)\n",
    "db = client['steam']\n",
    "collection = db['apps']\n",
    "\n",
    "# Load and parse the data\n",
    "ret = collection.find({\"updated_date\": {\"$exists\": True}, \"type\": {\"$in\": [\"game\", \"dlc\"]}},\n",
    "                        {\"detailed_description\":1}).limit(1000)"
   ]
  },
  {
   "cell_type": "code",
   "execution_count": 4,
   "metadata": {},
   "outputs": [],
   "source": [
    "# save as pandas dataframe\n",
    "descriptions = pd.DataFrame(ret)"
   ]
  },
  {
   "cell_type": "code",
   "execution_count": 5,
   "metadata": {},
   "outputs": [
    {
     "data": {
      "text/html": [
       "<div>\n",
       "<style scoped>\n",
       "    .dataframe tbody tr th:only-of-type {\n",
       "        vertical-align: middle;\n",
       "    }\n",
       "\n",
       "    .dataframe tbody tr th {\n",
       "        vertical-align: top;\n",
       "    }\n",
       "\n",
       "    .dataframe thead th {\n",
       "        text-align: right;\n",
       "    }\n",
       "</style>\n",
       "<table border=\"1\" class=\"dataframe\">\n",
       "  <thead>\n",
       "    <tr style=\"text-align: right;\">\n",
       "      <th></th>\n",
       "      <th>_id</th>\n",
       "      <th>detailed_description</th>\n",
       "    </tr>\n",
       "  </thead>\n",
       "  <tbody>\n",
       "    <tr>\n",
       "      <th>0</th>\n",
       "      <td>5b8d041128931725e4144025</td>\n",
       "      <td>Become immersed in the fantastic world of Aris...</td>\n",
       "    </tr>\n",
       "    <tr>\n",
       "      <th>1</th>\n",
       "      <td>5b8d1ca328931725e41445e0</td>\n",
       "      <td>&lt;p&gt;Inviting you to explore a vast deserted isl...</td>\n",
       "    </tr>\n",
       "    <tr>\n",
       "      <th>2</th>\n",
       "      <td>5b8d40ef28931725e4144eda</td>\n",
       "      <td>&lt;p&gt;Enhance your Crusader Kings II Experience w...</td>\n",
       "    </tr>\n",
       "    <tr>\n",
       "      <th>3</th>\n",
       "      <td>5b8d515328931725e4145323</td>\n",
       "      <td>Colonize solar systems, annihilate homeworlds,...</td>\n",
       "    </tr>\n",
       "    <tr>\n",
       "      <th>4</th>\n",
       "      <td>5b8d546a28931725e41453fe</td>\n",
       "      <td>Mark of the Ninja: Special Edition expands the...</td>\n",
       "    </tr>\n",
       "    <tr>\n",
       "      <th>...</th>\n",
       "      <td>...</td>\n",
       "      <td>...</td>\n",
       "    </tr>\n",
       "    <tr>\n",
       "      <th>995</th>\n",
       "      <td>5d3a2f3c1534017272d00466</td>\n",
       "      <td>This free DLC include a collection of 5 erotic...</td>\n",
       "    </tr>\n",
       "    <tr>\n",
       "      <th>996</th>\n",
       "      <td>5d3a2f3c1534017272d00467</td>\n",
       "      <td>This free DLC include a collection of 5 fetish...</td>\n",
       "    </tr>\n",
       "    <tr>\n",
       "      <th>997</th>\n",
       "      <td>5d3a2f3c1534017272d00468</td>\n",
       "      <td>This free DLC include a collection of 5 fetish...</td>\n",
       "    </tr>\n",
       "    <tr>\n",
       "      <th>998</th>\n",
       "      <td>5d3a2f3c1534017272d00469</td>\n",
       "      <td>This free DLC include a collection of 5 wallpa...</td>\n",
       "    </tr>\n",
       "    <tr>\n",
       "      <th>999</th>\n",
       "      <td>5d3a2f3c1534017272d0046a</td>\n",
       "      <td>This free DLC include a collection of 5 wallpa...</td>\n",
       "    </tr>\n",
       "  </tbody>\n",
       "</table>\n",
       "<p>1000 rows × 2 columns</p>\n",
       "</div>"
      ],
      "text/plain": [
       "                          _id  \\\n",
       "0    5b8d041128931725e4144025   \n",
       "1    5b8d1ca328931725e41445e0   \n",
       "2    5b8d40ef28931725e4144eda   \n",
       "3    5b8d515328931725e4145323   \n",
       "4    5b8d546a28931725e41453fe   \n",
       "..                        ...   \n",
       "995  5d3a2f3c1534017272d00466   \n",
       "996  5d3a2f3c1534017272d00467   \n",
       "997  5d3a2f3c1534017272d00468   \n",
       "998  5d3a2f3c1534017272d00469   \n",
       "999  5d3a2f3c1534017272d0046a   \n",
       "\n",
       "                                  detailed_description  \n",
       "0    Become immersed in the fantastic world of Aris...  \n",
       "1    <p>Inviting you to explore a vast deserted isl...  \n",
       "2    <p>Enhance your Crusader Kings II Experience w...  \n",
       "3    Colonize solar systems, annihilate homeworlds,...  \n",
       "4    Mark of the Ninja: Special Edition expands the...  \n",
       "..                                                 ...  \n",
       "995  This free DLC include a collection of 5 erotic...  \n",
       "996  This free DLC include a collection of 5 fetish...  \n",
       "997  This free DLC include a collection of 5 fetish...  \n",
       "998  This free DLC include a collection of 5 wallpa...  \n",
       "999  This free DLC include a collection of 5 wallpa...  \n",
       "\n",
       "[1000 rows x 2 columns]"
      ]
     },
     "execution_count": 5,
     "metadata": {},
     "output_type": "execute_result"
    }
   ],
   "source": [
    "descriptions"
   ]
  },
  {
   "cell_type": "code",
   "execution_count": 6,
   "metadata": {},
   "outputs": [
    {
     "name": "stdout",
     "output_type": "stream",
     "text": [
      "<class 'pandas.core.frame.DataFrame'>\n",
      "RangeIndex: 1000 entries, 0 to 999\n",
      "Data columns (total 2 columns):\n",
      " #   Column                Non-Null Count  Dtype \n",
      "---  ------                --------------  ----- \n",
      " 0   _id                   1000 non-null   object\n",
      " 1   detailed_description  1000 non-null   object\n",
      "dtypes: object(2)\n",
      "memory usage: 15.8+ KB\n"
     ]
    }
   ],
   "source": [
    "descriptions.info()"
   ]
  },
  {
   "cell_type": "code",
   "execution_count": 7,
   "metadata": {},
   "outputs": [],
   "source": [
    "# convert to Spark dataframe\n",
    "descriptions = sqlContext.createDataFrame(descriptions.astype(str))"
   ]
  },
  {
   "cell_type": "code",
   "execution_count": 8,
   "metadata": {},
   "outputs": [
    {
     "data": {
      "text/plain": [
       "DataFrame[_id: string, detailed_description: string]"
      ]
     },
     "execution_count": 8,
     "metadata": {},
     "output_type": "execute_result"
    }
   ],
   "source": [
    "descriptions"
   ]
  },
  {
   "cell_type": "code",
   "execution_count": 9,
   "metadata": {},
   "outputs": [
    {
     "name": "stdout",
     "output_type": "stream",
     "text": [
      "+--------------------+--------------------+\n",
      "|                 _id|detailed_description|\n",
      "+--------------------+--------------------+\n",
      "|5b8d041128931725e...|Become immersed i...|\n",
      "|5b8d1ca328931725e...|<p>Inviting you t...|\n",
      "|5b8d40ef28931725e...|<p>Enhance your C...|\n",
      "|5b8d515328931725e...|Colonize solar sy...|\n",
      "|5b8d546a28931725e...|Mark of the Ninja...|\n",
      "|5b8d9352852f693bc...|Adds a game field...|\n",
      "|5b8d962b852f693bc...|<img src=\"https:/...|\n",
      "|5b8d9635852f693bc...|Adds a game field...|\n",
      "|5b8d9634852f693bc...|<h1>Developer's N...|\n",
      "|5b8d9636852f693bc...|Your city was inf...|\n",
      "+--------------------+--------------------+\n",
      "only showing top 10 rows\n",
      "\n"
     ]
    }
   ],
   "source": [
    "descriptions.show(n=10)"
   ]
  },
  {
   "cell_type": "code",
   "execution_count": 10,
   "metadata": {},
   "outputs": [],
   "source": [
    "# remove HTML tags and lowercase it\n",
    "descriptions = descriptions.withColumn(\"detailed_description\", lower((regexp_replace('detailed_description', '<[^<]+?>', ''))))\n",
    "# remove special characters\n",
    "descriptions = descriptions.withColumn(\"detailed_description\", lower((regexp_replace('detailed_description', '[^0-9a-zA-Z ]+', ''))))\n",
    "# remove specific words\n",
    "descriptions = descriptions.withColumn(\"detailed_description\", lower((regexp_replace('detailed_description', 'dlc|game|games', ''))))"
   ]
  },
  {
   "cell_type": "code",
   "execution_count": 11,
   "metadata": {},
   "outputs": [
    {
     "name": "stdout",
     "output_type": "stream",
     "text": [
      "+--------------------+--------------------+\n",
      "|                 _id|detailed_description|\n",
      "+--------------------+--------------------+\n",
      "|5b8d041128931725e...|become immersed i...|\n",
      "|5b8d1ca328931725e...|inviting you to e...|\n",
      "|5b8d40ef28931725e...|enhance your crus...|\n",
      "|5b8d515328931725e...|colonize solar sy...|\n",
      "|5b8d546a28931725e...|mark of the ninja...|\n",
      "|5b8d9352852f693bc...|adds a  field of ...|\n",
      "|5b8d962b852f693bc...|be ready to face ...|\n",
      "|5b8d9635852f693bc...|adds a  field of ...|\n",
      "|5b8d9634852f693bc...|developers note o...|\n",
      "|5b8d9636852f693bc...|your city was inf...|\n",
      "+--------------------+--------------------+\n",
      "only showing top 10 rows\n",
      "\n"
     ]
    }
   ],
   "source": [
    "descriptions.show(n=10)"
   ]
  },
  {
   "cell_type": "code",
   "execution_count": 12,
   "metadata": {},
   "outputs": [],
   "source": [
    "# http://spark.apache.org/docs/latest/ml-features#tokenizer\n",
    "\n",
    "tokenizer = Tokenizer(inputCol=\"detailed_description\", outputCol=\"words\")\n",
    "tokenized = tokenizer.transform(descriptions)"
   ]
  },
  {
   "cell_type": "code",
   "execution_count": 13,
   "metadata": {},
   "outputs": [
    {
     "name": "stdout",
     "output_type": "stream",
     "text": [
      "+--------------------+--------------------+--------------------+\n",
      "|                 _id|detailed_description|               words|\n",
      "+--------------------+--------------------+--------------------+\n",
      "|5b8d041128931725e...|become immersed i...|[become, immersed...|\n",
      "|5b8d1ca328931725e...|inviting you to e...|[inviting, you, t...|\n",
      "|5b8d40ef28931725e...|enhance your crus...|[enhance, your, c...|\n",
      "|5b8d515328931725e...|colonize solar sy...|[colonize, solar,...|\n",
      "|5b8d546a28931725e...|mark of the ninja...|[mark, of, the, n...|\n",
      "|5b8d9352852f693bc...|adds a  field of ...|[adds, a, , field...|\n",
      "|5b8d962b852f693bc...|be ready to face ...|[be, ready, to, f...|\n",
      "|5b8d9635852f693bc...|adds a  field of ...|[adds, a, , field...|\n",
      "|5b8d9634852f693bc...|developers note o...|[developers, note...|\n",
      "|5b8d9636852f693bc...|your city was inf...|[your, city, was,...|\n",
      "+--------------------+--------------------+--------------------+\n",
      "only showing top 10 rows\n",
      "\n"
     ]
    }
   ],
   "source": [
    "tokenized.show(n=10)"
   ]
  },
  {
   "cell_type": "code",
   "execution_count": 14,
   "metadata": {},
   "outputs": [],
   "source": [
    "# remove stopwords\n",
    "# http://spark.apache.org/docs/latest/ml-features#stopwordsremover\n",
    "\n",
    "remover = StopWordsRemover(inputCol=\"words\", outputCol=\"filtered\")\n",
    "tokenized = remover.transform(tokenized)"
   ]
  },
  {
   "cell_type": "code",
   "execution_count": 15,
   "metadata": {},
   "outputs": [
    {
     "name": "stdout",
     "output_type": "stream",
     "text": [
      "+--------------------+--------------------+--------------------+--------------------+\n",
      "|                 _id|detailed_description|               words|            filtered|\n",
      "+--------------------+--------------------+--------------------+--------------------+\n",
      "|5b8d041128931725e...|become immersed i...|[become, immersed...|[become, immersed...|\n",
      "|5b8d1ca328931725e...|inviting you to e...|[inviting, you, t...|[inviting, explor...|\n",
      "|5b8d40ef28931725e...|enhance your crus...|[enhance, your, c...|[enhance, crusade...|\n",
      "|5b8d515328931725e...|colonize solar sy...|[colonize, solar,...|[colonize, solar,...|\n",
      "|5b8d546a28931725e...|mark of the ninja...|[mark, of, the, n...|[mark, ninja, spe...|\n",
      "|5b8d9352852f693bc...|adds a  field of ...|[adds, a, , field...|[adds, , field, i...|\n",
      "|5b8d962b852f693bc...|be ready to face ...|[be, ready, to, f...|[ready, face, wor...|\n",
      "|5b8d9635852f693bc...|adds a  field of ...|[adds, a, , field...|[adds, , field, i...|\n",
      "|5b8d9634852f693bc...|developers note o...|[developers, note...|[developers, note...|\n",
      "|5b8d9636852f693bc...|your city was inf...|[your, city, was,...|[city, infected, ...|\n",
      "|5b8d962a852f693bc...|you are a street ...|[you, are, a, str...|[street, cat, lan...|\n",
      "|5b8d962e852f693bc...|exit vr is a  abo...|[exit, vr, is, a,...|[exit, vr, , scp0...|\n",
      "|5b8d9636852f693bc...|about thisdark he...|[about, thisdark,...|[thisdark, heroic...|\n",
      "|5b8d9622852f693bc...|barbarians full s...|[barbarians, full...|[barbarians, full...|\n",
      "|5b8d962c852f693bc...|zen vs zombie ach...|[zen, vs, zombie,...|[zen, vs, zombie,...|\n",
      "|5b8d9632852f693bc...|get ready the wor...|[get, ready, the,...|[get, ready, worl...|\n",
      "|5b8d9626852f693bc...|earth and the cor...|[earth, and, the,...|[earth, core, wor...|\n",
      "|5b8d9624852f693bc...|                    |                  []|                  []|\n",
      "|5b8d9632852f693bc...|these hypers migh...|[these, hypers, m...|[hypers, might, g...|\n",
      "|5b8d9633852f693bc...|this  includes th...|[this, , includes...|[, includes, foun...|\n",
      "+--------------------+--------------------+--------------------+--------------------+\n",
      "only showing top 20 rows\n",
      "\n"
     ]
    }
   ],
   "source": [
    "tokenized.show(truncate=True)"
   ]
  },
  {
   "cell_type": "code",
   "execution_count": 16,
   "metadata": {},
   "outputs": [],
   "source": [
    "# http://spark.apache.org/docs/latest/ml-features#countvectorizer\n",
    "\n",
    "# TODO, tweak minDF, etc.?\n",
    "# http://spark.apache.org/docs/latest/api/scala/org/apache/spark/ml/feature/CountVectorizer.html\n",
    "cv = CountVectorizer(inputCol=\"filtered\", outputCol=\"features\", minDF=3)\n",
    "vectorized = cv.fit(tokenized)"
   ]
  },
  {
   "cell_type": "code",
   "execution_count": 17,
   "metadata": {},
   "outputs": [
    {
     "name": "stdout",
     "output_type": "stream",
     "text": [
      "+--------------------+--------------------+--------------------+--------------------+--------------------+\n",
      "|                 _id|detailed_description|               words|            filtered|            features|\n",
      "+--------------------+--------------------+--------------------+--------------------+--------------------+\n",
      "|5b8d041128931725e...|become immersed i...|[become, immersed...|[become, immersed...|(3790,[0,4,8,10,1...|\n",
      "|5b8d1ca328931725e...|inviting you to e...|[inviting, you, t...|[inviting, explor...|(3790,[0,4,10,23,...|\n",
      "|5b8d40ef28931725e...|enhance your crus...|[enhance, your, c...|[enhance, crusade...|(3790,[0,4,5,40,4...|\n",
      "|5b8d515328931725e...|colonize solar sy...|[colonize, solar,...|[colonize, solar,...|(3790,[0,1,6,9,11...|\n",
      "|5b8d546a28931725e...|mark of the ninja...|[mark, of, the, n...|[mark, ninja, spe...|(3790,[0,2,7,8,9,...|\n",
      "|5b8d9352852f693bc...|adds a  field of ...|[adds, a, , field...|[adds, , field, i...|(3790,[0,121,270,...|\n",
      "|5b8d962b852f693bc...|be ready to face ...|[be, ready, to, f...|[ready, face, wor...|(3790,[0,3,4,5,8,...|\n",
      "|5b8d9635852f693bc...|adds a  field of ...|[adds, a, , field...|[adds, , field, i...|(3790,[0,121,270,...|\n",
      "|5b8d9634852f693bc...|developers note o...|[developers, note...|[developers, note...|(3790,[0,1,2,4,5,...|\n",
      "|5b8d9636852f693bc...|your city was inf...|[your, city, was,...|[city, infected, ...|(3790,[0,4,5,6,10...|\n",
      "|5b8d962a852f693bc...|you are a street ...|[you, are, a, str...|[street, cat, lan...|(3790,[0,3,4,8,13...|\n",
      "|5b8d962e852f693bc...|exit vr is a  abo...|[exit, vr, is, a,...|[exit, vr, , scp0...|(3790,[0,5,10,27,...|\n",
      "|5b8d9636852f693bc...|about thisdark he...|[about, thisdark,...|[thisdark, heroic...|(3790,[0,5,7,12,1...|\n",
      "|5b8d9622852f693bc...|barbarians full s...|[barbarians, full...|[barbarians, full...|(3790,[5,8,47,55,...|\n",
      "|5b8d962c852f693bc...|zen vs zombie ach...|[zen, vs, zombie,...|[zen, vs, zombie,...|(3790,[0,2,6,13,1...|\n",
      "|5b8d9632852f693bc...|get ready the wor...|[get, ready, the,...|[get, ready, worl...|(3790,[1,3,4,6,7,...|\n",
      "|5b8d9626852f693bc...|earth and the cor...|[earth, and, the,...|[earth, core, wor...|(3790,[0,15,42,45...|\n",
      "|5b8d9624852f693bc...|                    |                  []|                  []|    (3790,[0],[1.0])|\n",
      "|5b8d9632852f693bc...|these hypers migh...|[these, hypers, m...|[hypers, might, g...|(3790,[0,3,14,20,...|\n",
      "|5b8d9633852f693bc...|this  includes th...|[this, , includes...|[, includes, foun...|(3790,[0,1,4,5,10...|\n",
      "+--------------------+--------------------+--------------------+--------------------+--------------------+\n",
      "only showing top 20 rows\n",
      "\n"
     ]
    }
   ],
   "source": [
    "features = vectorized.transform(tokenized)\n",
    "features.show(truncate=True)"
   ]
  },
  {
   "cell_type": "code",
   "execution_count": 18,
   "metadata": {},
   "outputs": [
    {
     "name": "stdout",
     "output_type": "stream",
     "text": [
      "<class 'pyspark.ml.clustering.LocalLDAModel'>\n",
      "The lower bound on the log likelihood of the entire corpus: -885528.9656972471\n",
      "The upper bound on perplexity: 14.520200795219347\n",
      "The topics described by their top-weighted terms:\n",
      "+-----+------------------------------------------------------------------------------------------+---------------------------------------------------------------------------------------------------------------------------------------------------------------------------------------------------------------------------------------------------------------------------------------------------------------------------------------------------+\n",
      "|topic|termIndices                                                                               |termWeights                                                                                                                                                                                                                                                                                                                                        |\n",
      "+-----+------------------------------------------------------------------------------------------+---------------------------------------------------------------------------------------------------------------------------------------------------------------------------------------------------------------------------------------------------------------------------------------------------------------------------------------------------+\n",
      "|0    |[184, 3374, 3082, 3062, 278, 2355, 3235, 3551, 745, 2139, 1452, 1730, 1897, 1398, 1812]   |[3.642721563765199E-4, 3.4654402921922156E-4, 3.463798957456553E-4, 3.4570673370787287E-4, 3.4561334292885565E-4, 3.416412115755668E-4, 3.407344237849642E-4, 3.403820482306972E-4, 3.38880930272136E-4, 3.388551752610621E-4, 3.3850977729178554E-4, 3.379595421521227E-4, 3.378104709297401E-4, 3.3771839513682423E-4, 3.374677953716876E-4]     |\n",
      "|1    |[3371, 1053, 1900, 487, 3314, 615, 3489, 2366, 3760, 3534, 2478, 1303, 2691, 3437, 767]   |[3.7736102959841627E-4, 3.5692591368707464E-4, 3.550190976293963E-4, 3.546797674558029E-4, 3.5028347665875506E-4, 3.502052093499633E-4, 3.499020751606964E-4, 3.4874819112761077E-4, 3.486378987292604E-4, 3.4811842460406227E-4, 3.474561163279554E-4, 3.4658195370541623E-4, 3.4451999489072265E-4, 3.437442236827433E-4, 3.437070812263396E-4]  |\n",
      "|2    |[920, 2416, 3403, 3765, 2135, 1751, 470, 3202, 528, 1697, 3759, 3706, 1829, 3060, 1582]   |[3.669872718701111E-4, 3.564984823442572E-4, 3.547420255384713E-4, 3.5308135339595946E-4, 3.47191558325962E-4, 3.446070167365156E-4, 3.438466583105373E-4, 3.415216137811043E-4, 3.405209715464153E-4, 3.388666167291237E-4, 3.379191983734988E-4, 3.3721082532312007E-4, 3.368961183565903E-4, 3.360757798972395E-4, 3.349973632282611E-4]        |\n",
      "|3    |[1212, 1161, 2075, 913, 3773, 1196, 535, 2389, 2088, 2674, 1913, 1532, 1021, 3274, 2752]  |[3.687600170265827E-4, 3.5575600198242544E-4, 3.5510964630313893E-4, 3.544079472663027E-4, 3.525439580676706E-4, 3.5191518760190483E-4, 3.507672215692173E-4, 3.506097220876784E-4, 3.49887572822963E-4, 3.4925885380012107E-4, 3.4671990525341823E-4, 3.465344698892542E-4, 3.4488700805226235E-4, 3.4412371949597316E-4, 3.4384821617450343E-4]  |\n",
      "|4    |[1925, 26, 0, 2293, 2864, 858, 803, 3499, 1339, 1002, 2278, 1195, 483, 1439, 1564]        |[0.001669241889471276, 9.991833583638768E-4, 9.212125620542356E-4, 7.672593115879523E-4, 7.629124307898289E-4, 7.519067164846623E-4, 7.444807572566121E-4, 7.43558824183069E-4, 7.387757513617551E-4, 7.163446902123987E-4, 7.135583903782756E-4, 7.115456790244664E-4, 7.057146095187425E-4, 6.978461826743395E-4, 6.970489682186675E-4]          |\n",
      "|5    |[243, 1949, 278, 1127, 251, 338, 57, 3771, 230, 335, 60, 1528, 0, 693, 1414]              |[5.865459366476251E-4, 4.661468591885429E-4, 4.591609933332401E-4, 4.522649236731384E-4, 4.5172238701068803E-4, 4.4137231241755443E-4, 4.3747321882950906E-4, 4.3647043264676125E-4, 4.35008646748873E-4, 4.348496748960587E-4, 4.32292916273892E-4, 4.2469745779038836E-4, 4.2324522427575177E-4, 4.216905021600259E-4, 4.1838867607899363E-4]    |\n",
      "|6    |[2568, 3346, 1291, 2467, 2030, 2964, 3724, 37, 3510, 2174, 2650, 1954, 3744, 623, 904]    |[3.761362042235801E-4, 3.74661309465324E-4, 3.4935284107062085E-4, 3.477045558429461E-4, 3.456135800767342E-4, 3.455128416644737E-4, 3.4446258902852834E-4, 3.4359129848634265E-4, 3.4310477534260414E-4, 3.409909937697205E-4, 3.403453229476037E-4, 3.397680735786066E-4, 3.39751025824791E-4, 3.39592674906854E-4, 3.368277543303805E-4]        |\n",
      "|7    |[3235, 1419, 3724, 3617, 979, 150, 3326, 1075, 3447, 3035, 279, 2085, 3077, 2028, 3330]   |[3.629861091345827E-4, 3.6285602466282506E-4, 3.6073197570471254E-4, 3.5884034813131243E-4, 3.5780653339068894E-4, 3.577515204195182E-4, 3.562724329264317E-4, 3.5482598384812425E-4, 3.517574206381148E-4, 3.512395231480296E-4, 3.494690504792817E-4, 3.4893732312646315E-4, 3.4805883111444397E-4, 3.443284902777834E-4, 3.425297676449923E-4]  |\n",
      "|8    |[2, 4, 6, 95, 48, 122, 5, 0, 19, 24, 100, 149, 13, 58, 81]                                |[0.0080001509198035, 0.005649958547665433, 0.0038577299717586075, 0.0034277730566751353, 0.0029231045821663973, 0.002769956801346574, 0.002700421589351032, 0.0026734154218920206, 0.0025375771523064154, 0.0025219389882287246, 0.0023888618815066705, 0.002366552363596521, 0.002324045230049605, 0.0023160322116085063, 0.0022667278454058244]  |\n",
      "|9    |[3364, 3043, 2092, 2965, 2953, 3720, 2945, 2063, 2657, 2558, 2841, 2417, 1538, 3052, 2155]|[3.6598354585202364E-4, 3.567285646306903E-4, 3.515665084095684E-4, 3.510453408933709E-4, 3.4601763611637263E-4, 3.4417299200996035E-4, 3.437447007943768E-4, 3.4306659297831234E-4, 3.416025729700105E-4, 3.415399891846815E-4, 3.4103659651299337E-4, 3.3955480043183024E-4, 3.386379311123905E-4, 3.381041943998878E-4, 3.3750865489478384E-4]  |\n",
      "|10   |[0, 7, 3, 167, 273, 53, 2773, 168, 417, 1495, 586, 2526, 666, 1284, 924]                  |[0.001040782527179181, 7.294203759793949E-4, 6.265892144286199E-4, 5.76402231348145E-4, 4.8824195385031985E-4, 4.768461459060604E-4, 4.6091354253715737E-4, 4.599382780271081E-4, 4.5779188439065715E-4, 4.525505626500465E-4, 4.517639951605665E-4, 4.4659910050970565E-4, 4.459058345932284E-4, 4.4404451267760056E-4, 4.432939658377712E-4]     |\n",
      "|11   |[805, 1111, 173, 399, 851, 664, 69, 253, 2542, 3041, 135, 0, 2338, 1531, 294]             |[0.0036462193801375577, 0.0033331556838126514, 0.0014822958378076555, 0.0011110003199963458, 9.862830676075198E-4, 9.446901362774924E-4, 9.213520833779366E-4, 9.086178125672016E-4, 8.790215877250256E-4, 8.768972638032941E-4, 8.623163344840326E-4, 8.61460987438967E-4, 8.595836741246933E-4, 8.584759327204362E-4, 7.838335630260644E-4]      |\n",
      "|12   |[1577, 209, 709, 2416, 2758, 3382, 3576, 1246, 1711, 3228, 321, 3586, 232, 1790, 1352]    |[3.6071122112917893E-4, 3.575117288642948E-4, 3.5470666040959484E-4, 3.5135532536591127E-4, 3.455913174145485E-4, 3.4550973517960575E-4, 3.4537768271906093E-4, 3.4537354951389245E-4, 3.451930762880577E-4, 3.438829963206364E-4, 3.4329682227856467E-4, 3.423211812833389E-4, 3.420747653339677E-4, 3.408003893026931E-4, 3.3933637453185684E-4] |\n",
      "|13   |[183, 663, 611, 1273, 11, 524, 155, 276, 1829, 731, 125, 158, 2873, 17, 20]               |[7.461055154031592E-4, 6.10540908513905E-4, 6.068281743623885E-4, 6.037370149966459E-4, 5.712503039281491E-4, 5.563763603542142E-4, 5.451237406983259E-4, 4.977784553005188E-4, 4.89812812727277E-4, 4.823292167730221E-4, 4.6120977601525696E-4, 4.55881051234664E-4, 4.548116966057991E-4, 4.473497309301393E-4, 4.413227071468121E-4]           |\n",
      "|14   |[0, 75, 1078, 849, 95, 563, 283, 2502, 2138, 3523, 2368, 750, 2332, 838, 1401]            |[0.003839136076771471, 0.0012558244607137723, 0.0010053102281290637, 9.545806381171611E-4, 8.932791394478452E-4, 8.544660382051164E-4, 8.005655632922624E-4, 7.828751696095657E-4, 7.812396511436526E-4, 7.685097327853073E-4, 7.60618772213457E-4, 7.546764388891498E-4, 7.497144570799494E-4, 7.491927870911946E-4, 7.446588031522048E-4]        |\n",
      "|15   |[231, 270, 214, 349, 526, 752, 0, 218, 1030, 199, 1005, 2, 1378, 620, 835]                |[0.006551065576450741, 0.006479984011294249, 0.0051698005974335675, 0.003694521915824764, 0.0029773856556724494, 0.0027550018935468814, 0.002651782948374745, 0.0025688427357348216, 0.0024865153572441487, 0.002466139827484981, 0.002254178524908577, 0.0022410677388381935, 0.002205489568095171, 0.0020657977117214846, 0.002053990389920119]  |\n",
      "|16   |[582, 1766, 71, 1773, 1390, 1771, 1797, 2695, 1184, 475, 3672, 753, 452, 585, 2508]       |[3.7023875122653584E-4, 3.6555091544321247E-4, 3.639979245999757E-4, 3.551422693878231E-4, 3.4937536794755136E-4, 3.4864475251698336E-4, 3.448474613472816E-4, 3.442448528395984E-4, 3.425880306462262E-4, 3.4220065900230116E-4, 3.405303769861888E-4, 3.4050178505051895E-4, 3.4046962793305807E-4, 3.3761154498189585E-4, 3.3753444640831115E-4]|\n",
      "|17   |[2612, 3085, 5, 50, 70, 2315, 140, 839, 406, 3059, 918, 305, 3787, 244, 2582]             |[6.381642037128783E-4, 6.294622322923855E-4, 6.144880390854465E-4, 5.981712427290436E-4, 5.762788675518041E-4, 5.751533340199424E-4, 5.646859305793247E-4, 5.503529851776891E-4, 4.6562215810335876E-4, 4.553441014450423E-4, 4.5435873598130317E-4, 4.496948418028868E-4, 4.4642707136802705E-4, 4.4409964097134565E-4, 4.4285681987485436E-4]    |\n",
      "|18   |[1696, 3786, 1554, 3200, 1231, 372, 3555, 3629, 1631, 3683, 1087, 2228, 620, 2932, 2269]  |[3.752720496820597E-4, 3.6353752488088115E-4, 3.549264514744551E-4, 3.526923447972199E-4, 3.5049343301136977E-4, 3.4843568729918075E-4, 3.475458793656076E-4, 3.470786615540412E-4, 3.4657096632961006E-4, 3.443063123393022E-4, 3.434827732121425E-4, 3.428507855664995E-4, 3.427498313747176E-4, 3.423322093872248E-4, 3.4220090754315523E-4]    |\n",
      "|19   |[0, 106, 270, 231, 54, 5, 67, 1, 239, 416, 38, 1982, 29, 596, 10]                         |[0.008430926495451518, 0.0014231798111417103, 0.0012422357918977856, 0.0012387713817073628, 0.0011996285283364793, 0.0011443513517273237, 0.0011161087887137952, 0.0010925514337110339, 0.001092302556697401, 0.0010754071868212267, 0.0010659586612520107, 0.0010380655089633406, 9.594890977848126E-4, 8.97693239267518E-4, 8.29511026996643E-4] |\n",
      "+-----+------------------------------------------------------------------------------------------+---------------------------------------------------------------------------------------------------------------------------------------------------------------------------------------------------------------------------------------------------------------------------------------------------------------------------------------------------+\n",
      "only showing top 20 rows\n",
      "\n"
     ]
    }
   ],
   "source": [
    "# number of topics\n",
    "k = 50\n",
    "\n",
    "lda = LDA(k=k, maxIter=10)\n",
    "model = lda.fit(features)\n",
    "print(type(model))\n",
    "\n",
    "# https://stackoverflow.com/questions/33725122/reporting-log-likelihood-perplexity-of-spark-lda-model-different-in-local-vs\n",
    "ll = model.logLikelihood(features)\n",
    "lp = model.logPerplexity(features)\n",
    "print(\"The lower bound on the log likelihood of the entire corpus: \" + str(ll))\n",
    "print(\"The upper bound on perplexity: \" + str(lp))\n",
    "\n",
    "# Describe topics.\n",
    "topics = model.describeTopics(15)\n",
    "print(\"The topics described by their top-weighted terms:\")\n",
    "topics.show(truncate=False)"
   ]
  },
  {
   "cell_type": "code",
   "execution_count": 19,
   "metadata": {},
   "outputs": [
    {
     "data": {
      "text/plain": [
       "array([[0.73471822, 0.70473257, 0.71194883, ..., 2.91174743, 3.02105692,\n",
       "        0.63022096],\n",
       "       [0.69019133, 0.78298389, 0.68587308, ..., 0.69831265, 1.21935841,\n",
       "        0.73414185],\n",
       "       [0.76447422, 0.67364358, 0.76127377, ..., 0.85327955, 0.71821888,\n",
       "        0.93140191],\n",
       "       ...,\n",
       "       [0.63527696, 0.85292464, 0.78234888, ..., 0.81375713, 0.76146196,\n",
       "        0.85471433],\n",
       "       [0.89992419, 0.80152763, 0.6344772 , ..., 0.7341108 , 0.7799453 ,\n",
       "        0.70658562],\n",
       "       [0.71468068, 0.89970003, 0.76454647, ..., 0.78075598, 0.9259023 ,\n",
       "        0.65230046]])"
      ]
     },
     "execution_count": 19,
     "metadata": {},
     "output_type": "execute_result"
    }
   ],
   "source": [
    "# TODO: is this needed?\n",
    "topics_matrix = model.topicsMatrix().toArray()\n",
    "topics_matrix"
   ]
  },
  {
   "cell_type": "code",
   "execution_count": 20,
   "metadata": {},
   "outputs": [
    {
     "name": "stdout",
     "output_type": "stream",
     "text": [
      "Topic 0:\n",
      "click, highspeed, eating, bats, casual, reduce, surround, shields, looking, villains, romantic, guardian, lesbian, president, 360\n",
      "-----------------------------\n",
      "Topic 1:\n",
      "welltrained, poop, steps, selection, met, horror, taught, confronted, onslaught, enthusiasm, replaces, fruit, decorate, error, excellent\n",
      "-----------------------------\n",
      "Topic 2:\n",
      "restore, done, chain, everyones, squares, obtain, quickly, protecting, offers, depend, picturefeatures20, includesrank, lower, 80sthe, guard\n",
      "-----------------------------\n",
      "Topic 3:\n",
      "middle, appearance, investigation, gift, emitteractive, deck, army, fishing, bloody, heritage, initially, cells, achieve, finale, rival\n",
      "-----------------------------\n",
      "Topic 4:\n",
      "grid, puzzle, , badges, nine, es, read, emoticons, guides, english, column, completed, backgrounds, objective, solution\n",
      "-----------------------------\n",
      "Topic 5:\n",
      "planet, riding, casual, chicken, jump, avoid, system, sun, simulator, reach, collect, solar, , history, runner\n",
      "-----------------------------\n",
      "Topic 6:\n",
      "classical, girlquot, shadow, stations, fellow, bots, observe, help, pickaxe, said, chat, goals, promote, adds, customize\n",
      "-----------------------------\n",
      "Topic 7:\n",
      "surround, advanced, observe, tune, spells, war, fragile, streets, flood, prologue, tower, quotthe, runningfeatures, stats, youyou\n",
      "-----------------------------\n",
      "Topic 8:\n",
      "new, world, different, school, want, set, one, , players, player, team, access, make, unique, powerful\n",
      "-----------------------------\n",
      "Topic 9:\n",
      "treated, heres, moved, risk, dj, laws, profit, routes, threatens, keeps, hunger, pirate, web, composer, page\n",
      "-----------------------------\n",
      "Topic 10:\n",
      ", levels, get, give, second, try, specifically, nice, atmosphere, emotions, going, notes, wanted, bored, developer\n",
      "-----------------------------\n",
      "Topic 11:\n",
      "park, weird, show, hidden, object, scenes, adventure, final, scary, tales, complete, , saga, broken, discover\n",
      "-----------------------------\n",
      "Topic 12:\n",
      "began, last, reward, done, era, 180, surrounded, killed, 21days, facebook, hentai, translation, monsters, peoples, artifacts\n",
      "-----------------------------\n",
      "Topic 13:\n",
      "mouse, encounter, building, etc, weapons, body, zombies, button, lower, eliminate, kill, right, aware, find, also\n",
      "-----------------------------\n",
      "Topic 14:\n",
      ", space, mindblowing, watch, school, aliens, ship, mistake, mankind, nasty, 90s, theyre, candies, taken, rabbit\n",
      "-----------------------------\n",
      "Topic 15:\n",
      "vehicle, increased, per, 50, hour, took, , 30, reputation, purchase, reduced, new, warden, limit, prison\n",
      "-----------------------------\n",
      "Topic 16:\n",
      "objects, rush, open, ask, cosmetic, spirits, varied, companions, motion, military, straight, press, equipment, class, darkest\n",
      "-----------------------------\n",
      "Topic 17:\n",
      "deserts, clouds, one, order, high, meaning, light, path, mysterious, rocks, range, true, recognize, obstacles, mighty\n",
      "-----------------------------\n",
      "Topic 18:\n",
      "gm, member, remains, freezing, medieval, meet, publisher, structures, interaction, cherished, rate, goddess, limit, precious, featuresrelaxing\n",
      "-----------------------------\n",
      "Topic 19:\n",
      ", move, increased, vehicle, mode, one, points, play, little, faster, like, donation, achievements, nothing, time\n",
      "-----------------------------\n",
      "Topic 20:\n",
      "website, band, pair, anything, organization, gift, piquant, teach, youday, see, bombs, violencethe, linear, trapped, beta\n",
      "-----------------------------\n",
      "Topic 21:\n",
      "psychological, kidnapped, color, eternal, twelve, forever, members, undertaken, humor, faster, explores, deliver, creators, higher, disturbed\n",
      "-----------------------------\n",
      "Topic 22:\n",
      "many, tough, impossible, features10, gained, one, shields, monsters, adults, close, incredibly, survive, hammer, international, patient\n",
      "-----------------------------\n",
      "Topic 23:\n",
      ", real, scenery, resolution, steam, edition, pack, flight, x, vfr, simulator, premium, airport, includes, high\n",
      "-----------------------------\n",
      "Topic 24:\n",
      "glasses, may, corner, clothes, understand, old, willing, goodies, subjects, mistakes, week, account, aviation, brought, anime\n",
      "-----------------------------\n",
      "Topic 25:\n",
      ", standard, feel, mechanism, want, help, youthis, special, hange, decide, single, accurate, manager, quotthe, year\n",
      "-----------------------------\n",
      "Topic 26:\n",
      "tries, youre, relief, leftd, writing, photo, highschool, female, clothes, towers, column, suggestions, eggs, opposite, biggest\n",
      "-----------------------------\n",
      "Topic 27:\n",
      "love, novel, story, relax, background, visual, step, episode, enjoy, labs, young, short, featuresrealistic, find, escape\n",
      "-----------------------------\n",
      "Topic 28:\n",
      "playstyle, careful, paid, hordes, day, blade, member, tell, parameters, learning, tower, lurking, champion, wont, aliensfight\n",
      "-----------------------------\n",
      "Topic 29:\n",
      "maybe, couldnt, experience, project, expansive, parties, superior, crafting, mankind, boasts, systems, seals, advice, especially, learn\n",
      "-----------------------------\n",
      "Topic 30:\n",
      "armies, assassin, d, bombs, iii, runs, backpack, insane, degrees, small, towerfeatures, shadow, reputation, units, manager\n",
      "-----------------------------\n",
      "Topic 31:\n",
      "flight, radio, simulator, real, different, control, remote, detailed, amp, mode, features, fighters, realistic, airplanes, epic\n",
      "-----------------------------\n",
      "Topic 32:\n",
      ", squad, war, season, world, may, time, also, town, june, managing, period, additional, purchase, son\n",
      "-----------------------------\n",
      "Topic 33:\n",
      "furious, explorers, full, modern, shapes, 23, uncovering, ensure, city, high, emotions, npcs, maintain, desired, craft\n",
      "-----------------------------\n",
      "Topic 34:\n",
      "party, intro, aware, suffering, enhancing, simple, youday, hair, npcs, drawings, burn, whilst, united, witches, seek\n",
      "-----------------------------\n",
      "Topic 35:\n",
      ", play, level, get, enemies, one, world, different, weapons, simple, music, many, need, new, puzzle\n",
      "-----------------------------\n",
      "Topic 36:\n",
      "drama, themes, featuring, storyline, sprites, brilliant, touches, topics, backgrounds, many, novel, visual, heartbreaking, art, interesting\n",
      "-----------------------------\n",
      "Topic 37:\n",
      "doors, browse, modes, quotdquot, quotchoicequotmany, magnificent, souls, bricks, expand, detailas, industry, homeworld, quiet, violent, area\n",
      "-----------------------------\n",
      "Topic 38:\n",
      "guides, catch, new, read, keep, distance, es, flies, 2, want, many, may, endless, folder, properties\n",
      "-----------------------------\n",
      "Topic 39:\n",
      "lions, innocent, room, insane, mode, companion, leads, matches, sudden, cruel, simulator, project, ending, vision, quotrupushquot\n",
      "-----------------------------\n",
      "Topic 40:\n",
      "mortal, sight, rate, obstacles, elf, felt, scrolls, approach, malevolent, accomplish, vitality, faster, chapter, undertaken, weapons\n",
      "-----------------------------\n",
      "Topic 41:\n",
      "mankind, tribe, last, please, evil, pve, became, world, hour, strongest, whether, prepared, darkest, activate, artifact\n",
      "-----------------------------\n",
      "Topic 42:\n",
      "demo, space, , resident, raccoon, evil, using, many, puzzles, 2, far, 2048, beautiful, unexpected, girls\n",
      "-----------------------------\n",
      "Topic 43:\n",
      "began, laughing, forms, good, factory, possibilities, ending, health, bats, complexity, conquer, figures, brandnew, 2019please, spectacular\n",
      "-----------------------------\n",
      "Topic 44:\n",
      "godslist, scroll, ahead, 19, allies, behind, drawn, east, assembly, aliensfight, starting, bots, conduct, drive, develop\n",
      "-----------------------------\n",
      "Topic 45:\n",
      ", women, take, street, zombies, types, different, good, try, place, destroyer, zombie, one, content, make\n",
      "-----------------------------\n",
      "Topic 46:\n",
      "max, 7, dragon, forge, 6, , gods, get, blood, pangeayoull, thrilling, godslist, fantasy, creatures, adventurer\n",
      "-----------------------------\n",
      "Topic 47:\n",
      "animation, wakfu, story, , episode, work, powers, tells, ever, famous, krosmaster, prepare, free, enter, watch\n",
      "-----------------------------\n",
      "Topic 48:\n",
      "grenades, , different, 5000, use, realistic, level, types, achievements, features, main, get, style, choice, character\n",
      "-----------------------------\n",
      "Topic 49:\n",
      "rift, unusual, weaponmouse, lack, beforehand, original, bedroom, young, failure, models, realize, samurai, z, munitions, 4\n",
      "-----------------------------\n"
     ]
    }
   ],
   "source": [
    "# can't iterate over a dataframe so we collect it first\n",
    "collected_topics = topics.collect()\n",
    "\n",
    "for topic in range(k):\n",
    "    print(\"Topic \" + str(topic) + \":\")\n",
    "    terms = []\n",
    "    for termIndex in collected_topics[topic]['termIndices']:\n",
    "        terms.append(str(vectorized.vocabulary[termIndex]))\n",
    "    print(', '.join(terms))\n",
    "    print(\"-----------------------------\")"
   ]
  },
  {
   "cell_type": "code",
   "execution_count": 21,
   "metadata": {},
   "outputs": [
    {
     "name": "stdout",
     "output_type": "stream",
     "text": [
      "+--------------------+--------------------+--------------------+--------------------+--------------------+--------------------+\n",
      "|                 _id|detailed_description|               words|            filtered|            features|   topicDistribution|\n",
      "+--------------------+--------------------+--------------------+--------------------+--------------------+--------------------+\n",
      "|5b8d041128931725e...|become immersed i...|[become, immersed...|[become, immersed...|(3790,[0,4,8,10,1...|[6.39265878730774...|\n",
      "|5b8d1ca328931725e...|inviting you to e...|[inviting, you, t...|[inviting, explor...|(3790,[0,4,10,23,...|[2.95475117972630...|\n",
      "|5b8d40ef28931725e...|enhance your crus...|[enhance, your, c...|[enhance, crusade...|(3790,[0,4,5,40,4...|[5.73701821562152...|\n",
      "|5b8d515328931725e...|colonize solar sy...|[colonize, solar,...|[colonize, solar,...|(3790,[0,1,6,9,11...|[1.39277350979563...|\n",
      "|5b8d546a28931725e...|mark of the ninja...|[mark, of, the, n...|[mark, ninja, spe...|(3790,[0,2,7,8,9,...|[1.75670435101362...|\n",
      "|5b8d9352852f693bc...|adds a  field of ...|[adds, a, , field...|[adds, , field, i...|(3790,[0,121,270,...|[0.00279168118305...|\n",
      "|5b8d962b852f693bc...|be ready to face ...|[be, ready, to, f...|[ready, face, wor...|(3790,[0,3,4,5,8,...|[1.20361252523782...|\n",
      "|5b8d9635852f693bc...|adds a  field of ...|[adds, a, , field...|[adds, , field, i...|(3790,[0,121,270,...|[0.00279168118305...|\n",
      "|5b8d9634852f693bc...|developers note o...|[developers, note...|[developers, note...|(3790,[0,1,2,4,5,...|[9.60498982169146...|\n",
      "|5b8d9636852f693bc...|your city was inf...|[your, city, was,...|[city, infected, ...|(3790,[0,4,5,6,10...|[1.83958042097917...|\n",
      "|5b8d962a852f693bc...|you are a street ...|[you, are, a, str...|[street, cat, lan...|(3790,[0,3,4,8,13...|[2.46842664389829...|\n",
      "|5b8d962e852f693bc...|exit vr is a  abo...|[exit, vr, is, a,...|[exit, vr, , scp0...|(3790,[0,5,10,27,...|[4.33413129607709...|\n",
      "|5b8d9636852f693bc...|about thisdark he...|[about, thisdark,...|[thisdark, heroic...|(3790,[0,5,7,12,1...|[1.91173228111129...|\n",
      "|5b8d9622852f693bc...|barbarians full s...|[barbarians, full...|[barbarians, full...|(3790,[5,8,47,55,...|[4.43267053527559...|\n",
      "|5b8d962c852f693bc...|zen vs zombie ach...|[zen, vs, zombie,...|[zen, vs, zombie,...|(3790,[0,2,6,13,1...|[1.58529600059257...|\n",
      "|5b8d9632852f693bc...|get ready the wor...|[get, ready, the,...|[get, ready, worl...|(3790,[1,3,4,6,7,...|[2.34944311652429...|\n",
      "|5b8d9626852f693bc...|earth and the cor...|[earth, and, the,...|[earth, core, wor...|(3790,[0,15,42,45...|[3.82407158992914...|\n",
      "|5b8d9624852f693bc...|                    |                  []|                  []|    (3790,[0],[1.0])|[0.00982783748361...|\n",
      "|5b8d9632852f693bc...|these hypers migh...|[these, hypers, m...|[hypers, might, g...|(3790,[0,3,14,20,...|[3.09548978168555...|\n",
      "|5b8d9633852f693bc...|this  includes th...|[this, , includes...|[, includes, foun...|(3790,[0,1,4,5,10...|[6.67727923898174...|\n",
      "+--------------------+--------------------+--------------------+--------------------+--------------------+--------------------+\n",
      "only showing top 20 rows\n",
      "\n"
     ]
    }
   ],
   "source": [
    "transformed = model.transform(features)\n",
    "transformed.show(truncate=True)"
   ]
  },
  {
   "cell_type": "code",
   "execution_count": 22,
   "metadata": {},
   "outputs": [],
   "source": [
    "# Save and load model\n",
    "#ldaModel.save(sc, \"/spark-steam-model\")\n",
    "#sameModel = LDAModel.load(sc, \"/spark-steam-model\")"
   ]
  },
  {
   "cell_type": "code",
   "execution_count": 23,
   "metadata": {},
   "outputs": [],
   "source": [
    "sc.stop()"
   ]
  }
 ],
 "metadata": {
  "kernelspec": {
   "display_name": "Python 3",
   "language": "python",
   "name": "python3"
  },
  "language_info": {
   "codemirror_mode": {
    "name": "ipython",
    "version": 3
   },
   "file_extension": ".py",
   "mimetype": "text/x-python",
   "name": "python",
   "nbconvert_exporter": "python",
   "pygments_lexer": "ipython3",
   "version": "3.8.5"
  }
 },
 "nbformat": 4,
 "nbformat_minor": 4
}
